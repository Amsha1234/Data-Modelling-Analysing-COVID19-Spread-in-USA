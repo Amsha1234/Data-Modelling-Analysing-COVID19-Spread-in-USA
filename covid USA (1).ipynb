{
 "cells": [
  {
   "cell_type": "markdown",
   "metadata": {},
   "source": [
    "# BUILDING THE MODEL TO FORECAST THE UPCOMING TOTAL NO\n",
    "# OF CONFIRMED CASES IN NEXT 10 DAYS\n"
   ]
  },
  {
   "cell_type": "code",
   "execution_count": 50,
   "metadata": {},
   "outputs": [],
   "source": [
    "import pandas as pd\n",
    "import numpy as np\n",
    "import random\n",
    "import math\n",
    "import math\n",
    "import matplotlib.pyplot as plt\n",
    "import matplotlib.colors as mcolors\n",
    "import datetime\n",
    "import operator\n",
    "plt.style.use('seaborn')\n",
    "%matplotlib inline"
   ]
  },
  {
   "cell_type": "code",
   "execution_count": 51,
   "metadata": {},
   "outputs": [],
   "source": [
    "conf_case=pd.read_csv(\"D:\\\\RStudio\\\\mini COVID\\\\MODEL FOR COVID\\\\DATA SET UPDATED\\\\cleaned/time_series_covid_19_confirmed_US.csv\")"
   ]
  },
  {
   "cell_type": "code",
   "execution_count": 52,
   "metadata": {},
   "outputs": [],
   "source": [
    "death_case=pd.read_csv(\"D:\\\\RStudio\\\\mini COVID\\\\MODEL FOR COVID\\\\DATA SET UPDATED\\\\cleaned/time_series_covid_19_deaths_US.csv\")"
   ]
  },
  {
   "cell_type": "code",
   "execution_count": 53,
   "metadata": {},
   "outputs": [
    {
     "name": "stdout",
     "output_type": "stream",
     "text": [
      "---------------------------------------------------\n",
      "\n",
      "DIMENSION OF CONFIRMED CASE DATA: (3261, 125)\n",
      "---------------------------------------------------\n",
      "\n",
      "DIMENSION OF CONFIRMED CASE DATA: (3261, 126)\n"
     ]
    }
   ],
   "source": [
    "print(\"---------------------------------------------------\")\n",
    "print(\"\\nDIMENSION OF CONFIRMED CASE DATA:\",conf_case.shape)\n",
    "print(\"---------------------------------------------------\")\n",
    "print(\"\\nDIMENSION OF CONFIRMED CASE DATA:\",death_case.shape)"
   ]
  },
  {
   "cell_type": "code",
   "execution_count": 54,
   "metadata": {},
   "outputs": [
    {
     "data": {
      "text/html": [
       "<div>\n",
       "<style scoped>\n",
       "    .dataframe tbody tr th:only-of-type {\n",
       "        vertical-align: middle;\n",
       "    }\n",
       "\n",
       "    .dataframe tbody tr th {\n",
       "        vertical-align: top;\n",
       "    }\n",
       "\n",
       "    .dataframe thead th {\n",
       "        text-align: right;\n",
       "    }\n",
       "</style>\n",
       "<table border=\"1\" class=\"dataframe\">\n",
       "  <thead>\n",
       "    <tr style=\"text-align: right;\">\n",
       "      <th></th>\n",
       "      <th>UID</th>\n",
       "      <th>iso2</th>\n",
       "      <th>iso3</th>\n",
       "      <th>code3</th>\n",
       "      <th>FIPS</th>\n",
       "      <th>Admin2</th>\n",
       "      <th>Province_State</th>\n",
       "      <th>Country_Region</th>\n",
       "      <th>Lat</th>\n",
       "      <th>Long_</th>\n",
       "      <th>...</th>\n",
       "      <th>5/5/20</th>\n",
       "      <th>5/6/20</th>\n",
       "      <th>5/7/20</th>\n",
       "      <th>5/8/20</th>\n",
       "      <th>5/9/20</th>\n",
       "      <th>5/10/20</th>\n",
       "      <th>5/11/20</th>\n",
       "      <th>5/12/20</th>\n",
       "      <th>5/13/20</th>\n",
       "      <th>5/14/20</th>\n",
       "    </tr>\n",
       "  </thead>\n",
       "  <tbody>\n",
       "    <tr>\n",
       "      <td>0</td>\n",
       "      <td>16</td>\n",
       "      <td>AS</td>\n",
       "      <td>ASM</td>\n",
       "      <td>16</td>\n",
       "      <td>60.0</td>\n",
       "      <td>NaN</td>\n",
       "      <td>American Samoa</td>\n",
       "      <td>US</td>\n",
       "      <td>-14.271000</td>\n",
       "      <td>-170.132000</td>\n",
       "      <td>...</td>\n",
       "      <td>0</td>\n",
       "      <td>0</td>\n",
       "      <td>0</td>\n",
       "      <td>0</td>\n",
       "      <td>0</td>\n",
       "      <td>0</td>\n",
       "      <td>0</td>\n",
       "      <td>0</td>\n",
       "      <td>0</td>\n",
       "      <td>0</td>\n",
       "    </tr>\n",
       "    <tr>\n",
       "      <td>1</td>\n",
       "      <td>316</td>\n",
       "      <td>GU</td>\n",
       "      <td>GUM</td>\n",
       "      <td>316</td>\n",
       "      <td>66.0</td>\n",
       "      <td>NaN</td>\n",
       "      <td>Guam</td>\n",
       "      <td>US</td>\n",
       "      <td>13.444300</td>\n",
       "      <td>144.793700</td>\n",
       "      <td>...</td>\n",
       "      <td>145</td>\n",
       "      <td>149</td>\n",
       "      <td>149</td>\n",
       "      <td>151</td>\n",
       "      <td>151</td>\n",
       "      <td>151</td>\n",
       "      <td>151</td>\n",
       "      <td>152</td>\n",
       "      <td>152</td>\n",
       "      <td>152</td>\n",
       "    </tr>\n",
       "    <tr>\n",
       "      <td>2</td>\n",
       "      <td>580</td>\n",
       "      <td>MP</td>\n",
       "      <td>MNP</td>\n",
       "      <td>580</td>\n",
       "      <td>69.0</td>\n",
       "      <td>NaN</td>\n",
       "      <td>Northern Mariana Islands</td>\n",
       "      <td>US</td>\n",
       "      <td>15.097900</td>\n",
       "      <td>145.673900</td>\n",
       "      <td>...</td>\n",
       "      <td>14</td>\n",
       "      <td>15</td>\n",
       "      <td>15</td>\n",
       "      <td>15</td>\n",
       "      <td>16</td>\n",
       "      <td>16</td>\n",
       "      <td>19</td>\n",
       "      <td>19</td>\n",
       "      <td>19</td>\n",
       "      <td>19</td>\n",
       "    </tr>\n",
       "    <tr>\n",
       "      <td>3</td>\n",
       "      <td>630</td>\n",
       "      <td>PR</td>\n",
       "      <td>PRI</td>\n",
       "      <td>630</td>\n",
       "      <td>72.0</td>\n",
       "      <td>NaN</td>\n",
       "      <td>Puerto Rico</td>\n",
       "      <td>US</td>\n",
       "      <td>18.220800</td>\n",
       "      <td>-66.590100</td>\n",
       "      <td>...</td>\n",
       "      <td>1924</td>\n",
       "      <td>1968</td>\n",
       "      <td>2031</td>\n",
       "      <td>2156</td>\n",
       "      <td>2173</td>\n",
       "      <td>2198</td>\n",
       "      <td>2256</td>\n",
       "      <td>2299</td>\n",
       "      <td>2329</td>\n",
       "      <td>2427</td>\n",
       "    </tr>\n",
       "    <tr>\n",
       "      <td>4</td>\n",
       "      <td>850</td>\n",
       "      <td>VI</td>\n",
       "      <td>VIR</td>\n",
       "      <td>850</td>\n",
       "      <td>78.0</td>\n",
       "      <td>NaN</td>\n",
       "      <td>Virgin Islands</td>\n",
       "      <td>US</td>\n",
       "      <td>18.335800</td>\n",
       "      <td>-64.896300</td>\n",
       "      <td>...</td>\n",
       "      <td>66</td>\n",
       "      <td>66</td>\n",
       "      <td>66</td>\n",
       "      <td>68</td>\n",
       "      <td>68</td>\n",
       "      <td>69</td>\n",
       "      <td>69</td>\n",
       "      <td>69</td>\n",
       "      <td>69</td>\n",
       "      <td>69</td>\n",
       "    </tr>\n",
       "    <tr>\n",
       "      <td>5</td>\n",
       "      <td>84001001</td>\n",
       "      <td>US</td>\n",
       "      <td>USA</td>\n",
       "      <td>840</td>\n",
       "      <td>1001.0</td>\n",
       "      <td>Autauga</td>\n",
       "      <td>Alabama</td>\n",
       "      <td>US</td>\n",
       "      <td>32.539527</td>\n",
       "      <td>-86.644082</td>\n",
       "      <td>...</td>\n",
       "      <td>53</td>\n",
       "      <td>58</td>\n",
       "      <td>61</td>\n",
       "      <td>67</td>\n",
       "      <td>68</td>\n",
       "      <td>74</td>\n",
       "      <td>84</td>\n",
       "      <td>91</td>\n",
       "      <td>93</td>\n",
       "      <td>104</td>\n",
       "    </tr>\n",
       "    <tr>\n",
       "      <td>6</td>\n",
       "      <td>84001003</td>\n",
       "      <td>US</td>\n",
       "      <td>USA</td>\n",
       "      <td>840</td>\n",
       "      <td>1003.0</td>\n",
       "      <td>Baldwin</td>\n",
       "      <td>Alabama</td>\n",
       "      <td>US</td>\n",
       "      <td>30.727750</td>\n",
       "      <td>-87.722071</td>\n",
       "      <td>...</td>\n",
       "      <td>189</td>\n",
       "      <td>196</td>\n",
       "      <td>205</td>\n",
       "      <td>208</td>\n",
       "      <td>216</td>\n",
       "      <td>222</td>\n",
       "      <td>224</td>\n",
       "      <td>227</td>\n",
       "      <td>231</td>\n",
       "      <td>243</td>\n",
       "    </tr>\n",
       "    <tr>\n",
       "      <td>7</td>\n",
       "      <td>84001005</td>\n",
       "      <td>US</td>\n",
       "      <td>USA</td>\n",
       "      <td>840</td>\n",
       "      <td>1005.0</td>\n",
       "      <td>Barbour</td>\n",
       "      <td>Alabama</td>\n",
       "      <td>US</td>\n",
       "      <td>31.868263</td>\n",
       "      <td>-85.387129</td>\n",
       "      <td>...</td>\n",
       "      <td>47</td>\n",
       "      <td>47</td>\n",
       "      <td>51</td>\n",
       "      <td>53</td>\n",
       "      <td>58</td>\n",
       "      <td>59</td>\n",
       "      <td>61</td>\n",
       "      <td>67</td>\n",
       "      <td>69</td>\n",
       "      <td>74</td>\n",
       "    </tr>\n",
       "    <tr>\n",
       "      <td>8</td>\n",
       "      <td>84001007</td>\n",
       "      <td>US</td>\n",
       "      <td>USA</td>\n",
       "      <td>840</td>\n",
       "      <td>1007.0</td>\n",
       "      <td>Bibb</td>\n",
       "      <td>Alabama</td>\n",
       "      <td>US</td>\n",
       "      <td>32.996421</td>\n",
       "      <td>-87.125115</td>\n",
       "      <td>...</td>\n",
       "      <td>43</td>\n",
       "      <td>43</td>\n",
       "      <td>44</td>\n",
       "      <td>44</td>\n",
       "      <td>45</td>\n",
       "      <td>46</td>\n",
       "      <td>46</td>\n",
       "      <td>46</td>\n",
       "      <td>46</td>\n",
       "      <td>46</td>\n",
       "    </tr>\n",
       "    <tr>\n",
       "      <td>9</td>\n",
       "      <td>84001009</td>\n",
       "      <td>US</td>\n",
       "      <td>USA</td>\n",
       "      <td>840</td>\n",
       "      <td>1009.0</td>\n",
       "      <td>Blount</td>\n",
       "      <td>Alabama</td>\n",
       "      <td>US</td>\n",
       "      <td>33.982109</td>\n",
       "      <td>-86.567906</td>\n",
       "      <td>...</td>\n",
       "      <td>40</td>\n",
       "      <td>42</td>\n",
       "      <td>44</td>\n",
       "      <td>44</td>\n",
       "      <td>44</td>\n",
       "      <td>44</td>\n",
       "      <td>45</td>\n",
       "      <td>45</td>\n",
       "      <td>45</td>\n",
       "      <td>45</td>\n",
       "    </tr>\n",
       "  </tbody>\n",
       "</table>\n",
       "<p>10 rows × 125 columns</p>\n",
       "</div>"
      ],
      "text/plain": [
       "        UID iso2 iso3  code3    FIPS   Admin2            Province_State  \\\n",
       "0        16   AS  ASM     16    60.0      NaN            American Samoa   \n",
       "1       316   GU  GUM    316    66.0      NaN                      Guam   \n",
       "2       580   MP  MNP    580    69.0      NaN  Northern Mariana Islands   \n",
       "3       630   PR  PRI    630    72.0      NaN               Puerto Rico   \n",
       "4       850   VI  VIR    850    78.0      NaN            Virgin Islands   \n",
       "5  84001001   US  USA    840  1001.0  Autauga                   Alabama   \n",
       "6  84001003   US  USA    840  1003.0  Baldwin                   Alabama   \n",
       "7  84001005   US  USA    840  1005.0  Barbour                   Alabama   \n",
       "8  84001007   US  USA    840  1007.0     Bibb                   Alabama   \n",
       "9  84001009   US  USA    840  1009.0   Blount                   Alabama   \n",
       "\n",
       "  Country_Region        Lat       Long_  ... 5/5/20  5/6/20  5/7/20  5/8/20  \\\n",
       "0             US -14.271000 -170.132000  ...      0       0       0       0   \n",
       "1             US  13.444300  144.793700  ...    145     149     149     151   \n",
       "2             US  15.097900  145.673900  ...     14      15      15      15   \n",
       "3             US  18.220800  -66.590100  ...   1924    1968    2031    2156   \n",
       "4             US  18.335800  -64.896300  ...     66      66      66      68   \n",
       "5             US  32.539527  -86.644082  ...     53      58      61      67   \n",
       "6             US  30.727750  -87.722071  ...    189     196     205     208   \n",
       "7             US  31.868263  -85.387129  ...     47      47      51      53   \n",
       "8             US  32.996421  -87.125115  ...     43      43      44      44   \n",
       "9             US  33.982109  -86.567906  ...     40      42      44      44   \n",
       "\n",
       "   5/9/20  5/10/20  5/11/20  5/12/20  5/13/20  5/14/20  \n",
       "0       0        0        0        0        0        0  \n",
       "1     151      151      151      152      152      152  \n",
       "2      16       16       19       19       19       19  \n",
       "3    2173     2198     2256     2299     2329     2427  \n",
       "4      68       69       69       69       69       69  \n",
       "5      68       74       84       91       93      104  \n",
       "6     216      222      224      227      231      243  \n",
       "7      58       59       61       67       69       74  \n",
       "8      45       46       46       46       46       46  \n",
       "9      44       44       45       45       45       45  \n",
       "\n",
       "[10 rows x 125 columns]"
      ]
     },
     "execution_count": 54,
     "metadata": {},
     "output_type": "execute_result"
    }
   ],
   "source": [
    "#first 10 value\n",
    "conf_case.head(10)\n"
   ]
  },
  {
   "cell_type": "code",
   "execution_count": 55,
   "metadata": {},
   "outputs": [
    {
     "data": {
      "text/html": [
       "<div>\n",
       "<style scoped>\n",
       "    .dataframe tbody tr th:only-of-type {\n",
       "        vertical-align: middle;\n",
       "    }\n",
       "\n",
       "    .dataframe tbody tr th {\n",
       "        vertical-align: top;\n",
       "    }\n",
       "\n",
       "    .dataframe thead th {\n",
       "        text-align: right;\n",
       "    }\n",
       "</style>\n",
       "<table border=\"1\" class=\"dataframe\">\n",
       "  <thead>\n",
       "    <tr style=\"text-align: right;\">\n",
       "      <th></th>\n",
       "      <th>UID</th>\n",
       "      <th>iso2</th>\n",
       "      <th>iso3</th>\n",
       "      <th>code3</th>\n",
       "      <th>FIPS</th>\n",
       "      <th>Admin2</th>\n",
       "      <th>Province_State</th>\n",
       "      <th>Country_Region</th>\n",
       "      <th>Lat</th>\n",
       "      <th>Long_</th>\n",
       "      <th>...</th>\n",
       "      <th>5/5/20</th>\n",
       "      <th>5/6/20</th>\n",
       "      <th>5/7/20</th>\n",
       "      <th>5/8/20</th>\n",
       "      <th>5/9/20</th>\n",
       "      <th>5/10/20</th>\n",
       "      <th>5/11/20</th>\n",
       "      <th>5/12/20</th>\n",
       "      <th>5/13/20</th>\n",
       "      <th>5/14/20</th>\n",
       "    </tr>\n",
       "  </thead>\n",
       "  <tbody>\n",
       "    <tr>\n",
       "      <td>0</td>\n",
       "      <td>16</td>\n",
       "      <td>AS</td>\n",
       "      <td>ASM</td>\n",
       "      <td>16</td>\n",
       "      <td>60.0</td>\n",
       "      <td>NaN</td>\n",
       "      <td>American Samoa</td>\n",
       "      <td>US</td>\n",
       "      <td>-14.271000</td>\n",
       "      <td>-170.132000</td>\n",
       "      <td>...</td>\n",
       "      <td>0</td>\n",
       "      <td>0</td>\n",
       "      <td>0</td>\n",
       "      <td>0</td>\n",
       "      <td>0</td>\n",
       "      <td>0</td>\n",
       "      <td>0</td>\n",
       "      <td>0</td>\n",
       "      <td>0</td>\n",
       "      <td>0</td>\n",
       "    </tr>\n",
       "    <tr>\n",
       "      <td>1</td>\n",
       "      <td>316</td>\n",
       "      <td>GU</td>\n",
       "      <td>GUM</td>\n",
       "      <td>316</td>\n",
       "      <td>66.0</td>\n",
       "      <td>NaN</td>\n",
       "      <td>Guam</td>\n",
       "      <td>US</td>\n",
       "      <td>13.444300</td>\n",
       "      <td>144.793700</td>\n",
       "      <td>...</td>\n",
       "      <td>5</td>\n",
       "      <td>5</td>\n",
       "      <td>5</td>\n",
       "      <td>5</td>\n",
       "      <td>5</td>\n",
       "      <td>5</td>\n",
       "      <td>5</td>\n",
       "      <td>5</td>\n",
       "      <td>5</td>\n",
       "      <td>5</td>\n",
       "    </tr>\n",
       "    <tr>\n",
       "      <td>2</td>\n",
       "      <td>580</td>\n",
       "      <td>MP</td>\n",
       "      <td>MNP</td>\n",
       "      <td>580</td>\n",
       "      <td>69.0</td>\n",
       "      <td>NaN</td>\n",
       "      <td>Northern Mariana Islands</td>\n",
       "      <td>US</td>\n",
       "      <td>15.097900</td>\n",
       "      <td>145.673900</td>\n",
       "      <td>...</td>\n",
       "      <td>2</td>\n",
       "      <td>2</td>\n",
       "      <td>2</td>\n",
       "      <td>2</td>\n",
       "      <td>2</td>\n",
       "      <td>2</td>\n",
       "      <td>2</td>\n",
       "      <td>2</td>\n",
       "      <td>2</td>\n",
       "      <td>2</td>\n",
       "    </tr>\n",
       "    <tr>\n",
       "      <td>3</td>\n",
       "      <td>630</td>\n",
       "      <td>PR</td>\n",
       "      <td>PRI</td>\n",
       "      <td>630</td>\n",
       "      <td>72.0</td>\n",
       "      <td>NaN</td>\n",
       "      <td>Puerto Rico</td>\n",
       "      <td>US</td>\n",
       "      <td>18.220800</td>\n",
       "      <td>-66.590100</td>\n",
       "      <td>...</td>\n",
       "      <td>99</td>\n",
       "      <td>99</td>\n",
       "      <td>102</td>\n",
       "      <td>107</td>\n",
       "      <td>108</td>\n",
       "      <td>111</td>\n",
       "      <td>113</td>\n",
       "      <td>114</td>\n",
       "      <td>115</td>\n",
       "      <td>117</td>\n",
       "    </tr>\n",
       "    <tr>\n",
       "      <td>4</td>\n",
       "      <td>850</td>\n",
       "      <td>VI</td>\n",
       "      <td>VIR</td>\n",
       "      <td>850</td>\n",
       "      <td>78.0</td>\n",
       "      <td>NaN</td>\n",
       "      <td>Virgin Islands</td>\n",
       "      <td>US</td>\n",
       "      <td>18.335800</td>\n",
       "      <td>-64.896300</td>\n",
       "      <td>...</td>\n",
       "      <td>4</td>\n",
       "      <td>4</td>\n",
       "      <td>4</td>\n",
       "      <td>4</td>\n",
       "      <td>4</td>\n",
       "      <td>4</td>\n",
       "      <td>5</td>\n",
       "      <td>6</td>\n",
       "      <td>6</td>\n",
       "      <td>6</td>\n",
       "    </tr>\n",
       "    <tr>\n",
       "      <td>5</td>\n",
       "      <td>84001001</td>\n",
       "      <td>US</td>\n",
       "      <td>USA</td>\n",
       "      <td>840</td>\n",
       "      <td>1001.0</td>\n",
       "      <td>Autauga</td>\n",
       "      <td>Alabama</td>\n",
       "      <td>US</td>\n",
       "      <td>32.539527</td>\n",
       "      <td>-86.644082</td>\n",
       "      <td>...</td>\n",
       "      <td>3</td>\n",
       "      <td>3</td>\n",
       "      <td>3</td>\n",
       "      <td>4</td>\n",
       "      <td>4</td>\n",
       "      <td>4</td>\n",
       "      <td>4</td>\n",
       "      <td>4</td>\n",
       "      <td>4</td>\n",
       "      <td>4</td>\n",
       "    </tr>\n",
       "    <tr>\n",
       "      <td>6</td>\n",
       "      <td>84001003</td>\n",
       "      <td>US</td>\n",
       "      <td>USA</td>\n",
       "      <td>840</td>\n",
       "      <td>1003.0</td>\n",
       "      <td>Baldwin</td>\n",
       "      <td>Alabama</td>\n",
       "      <td>US</td>\n",
       "      <td>30.727750</td>\n",
       "      <td>-87.722071</td>\n",
       "      <td>...</td>\n",
       "      <td>5</td>\n",
       "      <td>5</td>\n",
       "      <td>5</td>\n",
       "      <td>5</td>\n",
       "      <td>5</td>\n",
       "      <td>5</td>\n",
       "      <td>6</td>\n",
       "      <td>7</td>\n",
       "      <td>7</td>\n",
       "      <td>8</td>\n",
       "    </tr>\n",
       "    <tr>\n",
       "      <td>7</td>\n",
       "      <td>84001005</td>\n",
       "      <td>US</td>\n",
       "      <td>USA</td>\n",
       "      <td>840</td>\n",
       "      <td>1005.0</td>\n",
       "      <td>Barbour</td>\n",
       "      <td>Alabama</td>\n",
       "      <td>US</td>\n",
       "      <td>31.868263</td>\n",
       "      <td>-85.387129</td>\n",
       "      <td>...</td>\n",
       "      <td>1</td>\n",
       "      <td>1</td>\n",
       "      <td>1</td>\n",
       "      <td>1</td>\n",
       "      <td>1</td>\n",
       "      <td>1</td>\n",
       "      <td>1</td>\n",
       "      <td>1</td>\n",
       "      <td>1</td>\n",
       "      <td>1</td>\n",
       "    </tr>\n",
       "    <tr>\n",
       "      <td>8</td>\n",
       "      <td>84001007</td>\n",
       "      <td>US</td>\n",
       "      <td>USA</td>\n",
       "      <td>840</td>\n",
       "      <td>1007.0</td>\n",
       "      <td>Bibb</td>\n",
       "      <td>Alabama</td>\n",
       "      <td>US</td>\n",
       "      <td>32.996421</td>\n",
       "      <td>-87.125115</td>\n",
       "      <td>...</td>\n",
       "      <td>0</td>\n",
       "      <td>0</td>\n",
       "      <td>0</td>\n",
       "      <td>1</td>\n",
       "      <td>1</td>\n",
       "      <td>1</td>\n",
       "      <td>1</td>\n",
       "      <td>1</td>\n",
       "      <td>1</td>\n",
       "      <td>1</td>\n",
       "    </tr>\n",
       "    <tr>\n",
       "      <td>9</td>\n",
       "      <td>84001009</td>\n",
       "      <td>US</td>\n",
       "      <td>USA</td>\n",
       "      <td>840</td>\n",
       "      <td>1009.0</td>\n",
       "      <td>Blount</td>\n",
       "      <td>Alabama</td>\n",
       "      <td>US</td>\n",
       "      <td>33.982109</td>\n",
       "      <td>-86.567906</td>\n",
       "      <td>...</td>\n",
       "      <td>0</td>\n",
       "      <td>0</td>\n",
       "      <td>0</td>\n",
       "      <td>0</td>\n",
       "      <td>0</td>\n",
       "      <td>0</td>\n",
       "      <td>0</td>\n",
       "      <td>0</td>\n",
       "      <td>0</td>\n",
       "      <td>0</td>\n",
       "    </tr>\n",
       "  </tbody>\n",
       "</table>\n",
       "<p>10 rows × 126 columns</p>\n",
       "</div>"
      ],
      "text/plain": [
       "        UID iso2 iso3  code3    FIPS   Admin2            Province_State  \\\n",
       "0        16   AS  ASM     16    60.0      NaN            American Samoa   \n",
       "1       316   GU  GUM    316    66.0      NaN                      Guam   \n",
       "2       580   MP  MNP    580    69.0      NaN  Northern Mariana Islands   \n",
       "3       630   PR  PRI    630    72.0      NaN               Puerto Rico   \n",
       "4       850   VI  VIR    850    78.0      NaN            Virgin Islands   \n",
       "5  84001001   US  USA    840  1001.0  Autauga                   Alabama   \n",
       "6  84001003   US  USA    840  1003.0  Baldwin                   Alabama   \n",
       "7  84001005   US  USA    840  1005.0  Barbour                   Alabama   \n",
       "8  84001007   US  USA    840  1007.0     Bibb                   Alabama   \n",
       "9  84001009   US  USA    840  1009.0   Blount                   Alabama   \n",
       "\n",
       "  Country_Region        Lat       Long_  ... 5/5/20  5/6/20  5/7/20  5/8/20  \\\n",
       "0             US -14.271000 -170.132000  ...      0       0       0       0   \n",
       "1             US  13.444300  144.793700  ...      5       5       5       5   \n",
       "2             US  15.097900  145.673900  ...      2       2       2       2   \n",
       "3             US  18.220800  -66.590100  ...     99      99     102     107   \n",
       "4             US  18.335800  -64.896300  ...      4       4       4       4   \n",
       "5             US  32.539527  -86.644082  ...      3       3       3       4   \n",
       "6             US  30.727750  -87.722071  ...      5       5       5       5   \n",
       "7             US  31.868263  -85.387129  ...      1       1       1       1   \n",
       "8             US  32.996421  -87.125115  ...      0       0       0       1   \n",
       "9             US  33.982109  -86.567906  ...      0       0       0       0   \n",
       "\n",
       "   5/9/20  5/10/20  5/11/20  5/12/20  5/13/20  5/14/20  \n",
       "0       0        0        0        0        0        0  \n",
       "1       5        5        5        5        5        5  \n",
       "2       2        2        2        2        2        2  \n",
       "3     108      111      113      114      115      117  \n",
       "4       4        4        5        6        6        6  \n",
       "5       4        4        4        4        4        4  \n",
       "6       5        5        6        7        7        8  \n",
       "7       1        1        1        1        1        1  \n",
       "8       1        1        1        1        1        1  \n",
       "9       0        0        0        0        0        0  \n",
       "\n",
       "[10 rows x 126 columns]"
      ]
     },
     "execution_count": 55,
     "metadata": {},
     "output_type": "execute_result"
    }
   ],
   "source": [
    "#first 10 value \n",
    "death_case.head(10)"
   ]
  },
  {
   "cell_type": "code",
   "execution_count": null,
   "metadata": {},
   "outputs": [],
   "source": []
  },
  {
   "cell_type": "code",
   "execution_count": 56,
   "metadata": {},
   "outputs": [
    {
     "data": {
      "text/plain": [
       "Index(['UID', 'iso2', 'iso3', 'code3', 'FIPS', 'Admin2', 'Province_State',\n",
       "       'Country_Region', 'Lat', 'Long_',\n",
       "       ...\n",
       "       '5/5/20', '5/6/20', '5/7/20', '5/8/20', '5/9/20', '5/10/20', '5/11/20',\n",
       "       '5/12/20', '5/13/20', '5/14/20'],\n",
       "      dtype='object', length=125)"
      ]
     },
     "execution_count": 56,
     "metadata": {},
     "output_type": "execute_result"
    }
   ],
   "source": [
    "conf_case.columns"
   ]
  },
  {
   "cell_type": "code",
   "execution_count": 57,
   "metadata": {},
   "outputs": [
    {
     "data": {
      "text/plain": [
       "Index(['UID', 'iso2', 'iso3', 'code3', 'FIPS', 'Admin2', 'Province_State',\n",
       "       'Country_Region', 'Lat', 'Long_',\n",
       "       ...\n",
       "       '5/5/20', '5/6/20', '5/7/20', '5/8/20', '5/9/20', '5/10/20', '5/11/20',\n",
       "       '5/12/20', '5/13/20', '5/14/20'],\n",
       "      dtype='object', length=126)"
      ]
     },
     "execution_count": 57,
     "metadata": {},
     "output_type": "execute_result"
    }
   ],
   "source": [
    "death_case.columns"
   ]
  },
  {
   "cell_type": "code",
   "execution_count": null,
   "metadata": {},
   "outputs": [],
   "source": []
  },
  {
   "cell_type": "code",
   "execution_count": 58,
   "metadata": {},
   "outputs": [],
   "source": [
    "# SVM AND LINEAR REGRESSION FOR PREDTION OF TOTAL NO OF  CONFIRMED CASE \n",
    "# MAY COME UP NEXT  DAYS(10)\n",
    "\n"
   ]
  },
  {
   "cell_type": "code",
   "execution_count": null,
   "metadata": {},
   "outputs": [],
   "source": []
  },
  {
   "cell_type": "code",
   "execution_count": 59,
   "metadata": {},
   "outputs": [
    {
     "data": {
      "text/plain": [
       "Index(['UID', 'iso2', 'iso3', 'code3', 'FIPS', 'Admin2', 'Province_State',\n",
       "       'Country_Region', 'Lat', 'Long_',\n",
       "       ...\n",
       "       '5/5/20', '5/6/20', '5/7/20', '5/8/20', '5/9/20', '5/10/20', '5/11/20',\n",
       "       '5/12/20', '5/13/20', '5/14/20'],\n",
       "      dtype='object', length=125)"
      ]
     },
     "execution_count": 59,
     "metadata": {},
     "output_type": "execute_result"
    }
   ],
   "source": [
    "# EXTRACT all OF THE COLUMN \n",
    "cols=conf_case.keys()\n",
    "cols\n",
    "#now we have all the column name snd the index of each in the cols\n"
   ]
  },
  {
   "cell_type": "code",
   "execution_count": 60,
   "metadata": {},
   "outputs": [],
   "source": [
    "#extract only the date from the conf and death case\n",
    "conf=conf_case.loc[:,cols[11]:cols[-1]]\n",
    "death=death_case.loc[:,cols[11]:cols[-1]]"
   ]
  },
  {
   "cell_type": "code",
   "execution_count": 61,
   "metadata": {},
   "outputs": [
    {
     "name": "stdout",
     "output_type": "stream",
     "text": [
      "---------------------------CONFIRMED-----------------------------------\n",
      "\n",
      "\n",
      "Index(['1/22/20', '1/23/20', '1/24/20', '1/25/20', '1/26/20', '1/27/20',\n",
      "       '1/28/20', '1/29/20', '1/30/20', '1/31/20',\n",
      "       ...\n",
      "       '5/5/20', '5/6/20', '5/7/20', '5/8/20', '5/9/20', '5/10/20', '5/11/20',\n",
      "       '5/12/20', '5/13/20', '5/14/20'],\n",
      "      dtype='object', length=114)\n",
      "\n",
      "------------------------------DEATH---------------------------------\n",
      "Index(['1/22/20', '1/23/20', '1/24/20', '1/25/20', '1/26/20', '1/27/20',\n",
      "       '1/28/20', '1/29/20', '1/30/20', '1/31/20',\n",
      "       ...\n",
      "       '5/5/20', '5/6/20', '5/7/20', '5/8/20', '5/9/20', '5/10/20', '5/11/20',\n",
      "       '5/12/20', '5/13/20', '5/14/20'],\n",
      "      dtype='object', length=114)\n"
     ]
    }
   ],
   "source": [
    "print(\"---------------------------CONFIRMED-----------------------------------\")\n",
    "print(\"\\n\")\n",
    "print(conf.columns)#we need only date date for futher use so extrated\n",
    "print(\"\\n------------------------------DEATH---------------------------------\")\n",
    "print(death.columns)#we need only date date for futher use so extrated"
   ]
  },
  {
   "cell_type": "code",
   "execution_count": 62,
   "metadata": {},
   "outputs": [
    {
     "data": {
      "text/html": [
       "<div>\n",
       "<style scoped>\n",
       "    .dataframe tbody tr th:only-of-type {\n",
       "        vertical-align: middle;\n",
       "    }\n",
       "\n",
       "    .dataframe tbody tr th {\n",
       "        vertical-align: top;\n",
       "    }\n",
       "\n",
       "    .dataframe thead th {\n",
       "        text-align: right;\n",
       "    }\n",
       "</style>\n",
       "<table border=\"1\" class=\"dataframe\">\n",
       "  <thead>\n",
       "    <tr style=\"text-align: right;\">\n",
       "      <th></th>\n",
       "      <th>1/22/20</th>\n",
       "      <th>1/23/20</th>\n",
       "      <th>1/24/20</th>\n",
       "      <th>1/25/20</th>\n",
       "      <th>1/26/20</th>\n",
       "      <th>1/27/20</th>\n",
       "      <th>1/28/20</th>\n",
       "      <th>1/29/20</th>\n",
       "      <th>1/30/20</th>\n",
       "      <th>1/31/20</th>\n",
       "      <th>...</th>\n",
       "      <th>5/5/20</th>\n",
       "      <th>5/6/20</th>\n",
       "      <th>5/7/20</th>\n",
       "      <th>5/8/20</th>\n",
       "      <th>5/9/20</th>\n",
       "      <th>5/10/20</th>\n",
       "      <th>5/11/20</th>\n",
       "      <th>5/12/20</th>\n",
       "      <th>5/13/20</th>\n",
       "      <th>5/14/20</th>\n",
       "    </tr>\n",
       "  </thead>\n",
       "  <tbody>\n",
       "    <tr>\n",
       "      <td>0</td>\n",
       "      <td>0</td>\n",
       "      <td>0</td>\n",
       "      <td>0</td>\n",
       "      <td>0</td>\n",
       "      <td>0</td>\n",
       "      <td>0</td>\n",
       "      <td>0</td>\n",
       "      <td>0</td>\n",
       "      <td>0</td>\n",
       "      <td>0</td>\n",
       "      <td>...</td>\n",
       "      <td>0</td>\n",
       "      <td>0</td>\n",
       "      <td>0</td>\n",
       "      <td>0</td>\n",
       "      <td>0</td>\n",
       "      <td>0</td>\n",
       "      <td>0</td>\n",
       "      <td>0</td>\n",
       "      <td>0</td>\n",
       "      <td>0</td>\n",
       "    </tr>\n",
       "    <tr>\n",
       "      <td>1</td>\n",
       "      <td>0</td>\n",
       "      <td>0</td>\n",
       "      <td>0</td>\n",
       "      <td>0</td>\n",
       "      <td>0</td>\n",
       "      <td>0</td>\n",
       "      <td>0</td>\n",
       "      <td>0</td>\n",
       "      <td>0</td>\n",
       "      <td>0</td>\n",
       "      <td>...</td>\n",
       "      <td>145</td>\n",
       "      <td>149</td>\n",
       "      <td>149</td>\n",
       "      <td>151</td>\n",
       "      <td>151</td>\n",
       "      <td>151</td>\n",
       "      <td>151</td>\n",
       "      <td>152</td>\n",
       "      <td>152</td>\n",
       "      <td>152</td>\n",
       "    </tr>\n",
       "    <tr>\n",
       "      <td>2</td>\n",
       "      <td>0</td>\n",
       "      <td>0</td>\n",
       "      <td>0</td>\n",
       "      <td>0</td>\n",
       "      <td>0</td>\n",
       "      <td>0</td>\n",
       "      <td>0</td>\n",
       "      <td>0</td>\n",
       "      <td>0</td>\n",
       "      <td>0</td>\n",
       "      <td>...</td>\n",
       "      <td>14</td>\n",
       "      <td>15</td>\n",
       "      <td>15</td>\n",
       "      <td>15</td>\n",
       "      <td>16</td>\n",
       "      <td>16</td>\n",
       "      <td>19</td>\n",
       "      <td>19</td>\n",
       "      <td>19</td>\n",
       "      <td>19</td>\n",
       "    </tr>\n",
       "    <tr>\n",
       "      <td>3</td>\n",
       "      <td>0</td>\n",
       "      <td>0</td>\n",
       "      <td>0</td>\n",
       "      <td>0</td>\n",
       "      <td>0</td>\n",
       "      <td>0</td>\n",
       "      <td>0</td>\n",
       "      <td>0</td>\n",
       "      <td>0</td>\n",
       "      <td>0</td>\n",
       "      <td>...</td>\n",
       "      <td>1924</td>\n",
       "      <td>1968</td>\n",
       "      <td>2031</td>\n",
       "      <td>2156</td>\n",
       "      <td>2173</td>\n",
       "      <td>2198</td>\n",
       "      <td>2256</td>\n",
       "      <td>2299</td>\n",
       "      <td>2329</td>\n",
       "      <td>2427</td>\n",
       "    </tr>\n",
       "    <tr>\n",
       "      <td>4</td>\n",
       "      <td>0</td>\n",
       "      <td>0</td>\n",
       "      <td>0</td>\n",
       "      <td>0</td>\n",
       "      <td>0</td>\n",
       "      <td>0</td>\n",
       "      <td>0</td>\n",
       "      <td>0</td>\n",
       "      <td>0</td>\n",
       "      <td>0</td>\n",
       "      <td>...</td>\n",
       "      <td>66</td>\n",
       "      <td>66</td>\n",
       "      <td>66</td>\n",
       "      <td>68</td>\n",
       "      <td>68</td>\n",
       "      <td>69</td>\n",
       "      <td>69</td>\n",
       "      <td>69</td>\n",
       "      <td>69</td>\n",
       "      <td>69</td>\n",
       "    </tr>\n",
       "  </tbody>\n",
       "</table>\n",
       "<p>5 rows × 114 columns</p>\n",
       "</div>"
      ],
      "text/plain": [
       "   1/22/20  1/23/20  1/24/20  1/25/20  1/26/20  1/27/20  1/28/20  1/29/20  \\\n",
       "0        0        0        0        0        0        0        0        0   \n",
       "1        0        0        0        0        0        0        0        0   \n",
       "2        0        0        0        0        0        0        0        0   \n",
       "3        0        0        0        0        0        0        0        0   \n",
       "4        0        0        0        0        0        0        0        0   \n",
       "\n",
       "   1/30/20  1/31/20  ...  5/5/20  5/6/20  5/7/20  5/8/20  5/9/20  5/10/20  \\\n",
       "0        0        0  ...       0       0       0       0       0        0   \n",
       "1        0        0  ...     145     149     149     151     151      151   \n",
       "2        0        0  ...      14      15      15      15      16       16   \n",
       "3        0        0  ...    1924    1968    2031    2156    2173     2198   \n",
       "4        0        0  ...      66      66      66      68      68       69   \n",
       "\n",
       "   5/11/20  5/12/20  5/13/20  5/14/20  \n",
       "0        0        0        0        0  \n",
       "1      151      152      152      152  \n",
       "2       19       19       19       19  \n",
       "3     2256     2299     2329     2427  \n",
       "4       69       69       69       69  \n",
       "\n",
       "[5 rows x 114 columns]"
      ]
     },
     "execution_count": 62,
     "metadata": {},
     "output_type": "execute_result"
    }
   ],
   "source": [
    "#here we have the total date of 114 days\n",
    "#checking the data of OUT BREAKCASE\n",
    "conf.head()"
   ]
  },
  {
   "cell_type": "markdown",
   "metadata": {},
   "source": [
    "# finding the total conf case,and death cases and appending to the list\n",
    "\n",
    "# now since we have the death and confriemed case data we can find the total \n",
    "# mortality rare which is the death_sum/conf_sum"
   ]
  },
  {
   "cell_type": "code",
   "execution_count": 63,
   "metadata": {},
   "outputs": [],
   "source": [
    "dates=conf.keys()\n",
    "usa_cases=[]\n",
    "tot_death=[]\n",
    "mortality_rate=[]\n",
    "\n",
    "for i in dates:\n",
    "    conf_sum=conf[i].sum()\n",
    "    death_sum=death[i].sum()\n",
    "    tot_death.append(death_sum)\n",
    "    usa_cases.append(conf_sum)\n",
    "    mortality_rate.append(death_sum/conf_sum)"
   ]
  },
  {
   "cell_type": "code",
   "execution_count": 64,
   "metadata": {},
   "outputs": [
    {
     "name": "stdout",
     "output_type": "stream",
     "text": [
      "\n",
      "-----------------------------------------------------------------\n",
      "\n",
      " THE TOTAL CONFIREMD CASE IS : 1417774\n",
      "\n",
      " THE TOTAL DEATH CASES : 85898\n",
      "\n",
      " THE TOTAL USA CASES GROWTH DATE WISE : [1, 1, 2, 2, 5, 5, 5, 5, 5, 7, 8, 8, 11, 11, 11, 11, 11, 11, 11, 11, 12, 12, 13, 13, 13, 13, 13, 13, 13, 13, 15, 15, 15, 15, 15, 15, 16, 16, 24, 30, 53, 73, 104, 172, 217, 336, 450, 514, 708, 1105, 1557, 2147, 2857, 2918, 4307, 6096, 8873, 14094, 19403, 25725, 33634, 43663, 53736, 65778, 83836, 101657, 121465, 140909, 161831, 188172, 213242, 243622, 275367, 308650, 336802, 366317, 397121, 428654, 462780, 496535, 526396, 555313, 580619, 607670, 636350, 667592, 699706, 727959, 754376, 779682, 807023, 835150, 869170, 905358, 938154, 965785, 988197, 1012582, 1039909, 1069424, 1103461, 1132539, 1158040, 1180375, 1204351, 1229331, 1257023, 1283929, 1309550, 1329260, 1347881, 1369574, 1390406, 1417774]\n",
      "\n",
      "-----------------------------------------------------------------\n"
     ]
    }
   ],
   "source": [
    "#display the new variable\n",
    "print(\"\\n-----------------------------------------------------------------\")\n",
    "print(\"\\n\",\"THE TOTAL CONFIREMD CASE IS :\",conf_sum)\n",
    "print(\"\\n\",\"THE TOTAL DEATH CASES :\",death_sum)\n",
    "print(\"\\n\",\"THE TOTAL USA CASES GROWTH DATE WISE :\",usa_cases)\n",
    "print(\"\\n-----------------------------------------------------------------\")\n",
    "#list(mortality_rate)\n"
   ]
  },
  {
   "cell_type": "code",
   "execution_count": 65,
   "metadata": {},
   "outputs": [],
   "source": [
    "#After 62 DAys there is growth on the confirmed case al most 10000\n",
    "#IT IS THE array is listed with date wise ALL CONFRIMED CASE"
   ]
  },
  {
   "cell_type": "code",
   "execution_count": 66,
   "metadata": {},
   "outputs": [],
   "source": [
    "#CONVERTED THE DATE AND THE CASE IN FORM OF NUMPY ARRAY \n",
    "date_since_1_22=np.array([i for i in range(len(dates))]).reshape(-1,1)\n",
    "usa_cases=np.array(usa_cases).reshape(-1,1)\n",
    "tot_death=np.array(tot_death).reshape(-1,1)\n"
   ]
  },
  {
   "cell_type": "code",
   "execution_count": 67,
   "metadata": {},
   "outputs": [
    {
     "name": "stdout",
     "output_type": "stream",
     "text": [
      " TOTAL USA CONF CASE AFTER 101 death:  72\n",
      "72\n"
     ]
    }
   ],
   "source": [
    "#taking the dATA AFTER THE 101 conf case\n",
    "\n",
    "u_case=usa_cases[usa_cases>100]\n",
    "d_sin=date_since_1_22[date_since_1_22>=42]\n",
    "\n",
    "u_case=np.array(u_case).reshape(-1,1)\n",
    "d_sin=np.array(d_sin).reshape(-1,1)\n",
    "\n",
    "print(\" TOTAL USA CONF CASE AFTER 101 death: \",len(u_case))\n",
    "print(len(d_sin))"
   ]
  },
  {
   "cell_type": "code",
   "execution_count": 68,
   "metadata": {},
   "outputs": [
    {
     "data": {
      "text/plain": [
       "array([[  0],\n",
       "       [  1],\n",
       "       [  2],\n",
       "       [  3],\n",
       "       [  4],\n",
       "       [  5],\n",
       "       [  6],\n",
       "       [  7],\n",
       "       [  8],\n",
       "       [  9],\n",
       "       [ 10],\n",
       "       [ 11],\n",
       "       [ 12],\n",
       "       [ 13],\n",
       "       [ 14],\n",
       "       [ 15],\n",
       "       [ 16],\n",
       "       [ 17],\n",
       "       [ 18],\n",
       "       [ 19],\n",
       "       [ 20],\n",
       "       [ 21],\n",
       "       [ 22],\n",
       "       [ 23],\n",
       "       [ 24],\n",
       "       [ 25],\n",
       "       [ 26],\n",
       "       [ 27],\n",
       "       [ 28],\n",
       "       [ 29],\n",
       "       [ 30],\n",
       "       [ 31],\n",
       "       [ 32],\n",
       "       [ 33],\n",
       "       [ 34],\n",
       "       [ 35],\n",
       "       [ 36],\n",
       "       [ 37],\n",
       "       [ 38],\n",
       "       [ 39],\n",
       "       [ 40],\n",
       "       [ 41],\n",
       "       [ 42],\n",
       "       [ 43],\n",
       "       [ 44],\n",
       "       [ 45],\n",
       "       [ 46],\n",
       "       [ 47],\n",
       "       [ 48],\n",
       "       [ 49],\n",
       "       [ 50],\n",
       "       [ 51],\n",
       "       [ 52],\n",
       "       [ 53],\n",
       "       [ 54],\n",
       "       [ 55],\n",
       "       [ 56],\n",
       "       [ 57],\n",
       "       [ 58],\n",
       "       [ 59],\n",
       "       [ 60],\n",
       "       [ 61],\n",
       "       [ 62],\n",
       "       [ 63],\n",
       "       [ 64],\n",
       "       [ 65],\n",
       "       [ 66],\n",
       "       [ 67],\n",
       "       [ 68],\n",
       "       [ 69],\n",
       "       [ 70],\n",
       "       [ 71],\n",
       "       [ 72],\n",
       "       [ 73],\n",
       "       [ 74],\n",
       "       [ 75],\n",
       "       [ 76],\n",
       "       [ 77],\n",
       "       [ 78],\n",
       "       [ 79],\n",
       "       [ 80],\n",
       "       [ 81],\n",
       "       [ 82],\n",
       "       [ 83],\n",
       "       [ 84],\n",
       "       [ 85],\n",
       "       [ 86],\n",
       "       [ 87],\n",
       "       [ 88],\n",
       "       [ 89],\n",
       "       [ 90],\n",
       "       [ 91],\n",
       "       [ 92],\n",
       "       [ 93],\n",
       "       [ 94],\n",
       "       [ 95],\n",
       "       [ 96],\n",
       "       [ 97],\n",
       "       [ 98],\n",
       "       [ 99],\n",
       "       [100],\n",
       "       [101],\n",
       "       [102],\n",
       "       [103],\n",
       "       [104],\n",
       "       [105],\n",
       "       [106],\n",
       "       [107],\n",
       "       [108],\n",
       "       [109],\n",
       "       [110],\n",
       "       [111],\n",
       "       [112],\n",
       "       [113]])"
      ]
     },
     "execution_count": 68,
     "metadata": {},
     "output_type": "execute_result"
    }
   ],
   "source": [
    "date_since_1_22#array of the total days 144 strating from the 1 jan to 14 may"
   ]
  },
  {
   "cell_type": "code",
   "execution_count": 69,
   "metadata": {},
   "outputs": [
    {
     "data": {
      "text/plain": [
       "array([[      1],\n",
       "       [      1],\n",
       "       [      2],\n",
       "       [      2],\n",
       "       [      5],\n",
       "       [      5],\n",
       "       [      5],\n",
       "       [      5],\n",
       "       [      5],\n",
       "       [      7],\n",
       "       [      8],\n",
       "       [      8],\n",
       "       [     11],\n",
       "       [     11],\n",
       "       [     11],\n",
       "       [     11],\n",
       "       [     11],\n",
       "       [     11],\n",
       "       [     11],\n",
       "       [     11],\n",
       "       [     12],\n",
       "       [     12],\n",
       "       [     13],\n",
       "       [     13],\n",
       "       [     13],\n",
       "       [     13],\n",
       "       [     13],\n",
       "       [     13],\n",
       "       [     13],\n",
       "       [     13],\n",
       "       [     15],\n",
       "       [     15],\n",
       "       [     15],\n",
       "       [     15],\n",
       "       [     15],\n",
       "       [     15],\n",
       "       [     16],\n",
       "       [     16],\n",
       "       [     24],\n",
       "       [     30],\n",
       "       [     53],\n",
       "       [     73],\n",
       "       [    104],\n",
       "       [    172],\n",
       "       [    217],\n",
       "       [    336],\n",
       "       [    450],\n",
       "       [    514],\n",
       "       [    708],\n",
       "       [   1105],\n",
       "       [   1557],\n",
       "       [   2147],\n",
       "       [   2857],\n",
       "       [   2918],\n",
       "       [   4307],\n",
       "       [   6096],\n",
       "       [   8873],\n",
       "       [  14094],\n",
       "       [  19403],\n",
       "       [  25725],\n",
       "       [  33634],\n",
       "       [  43663],\n",
       "       [  53736],\n",
       "       [  65778],\n",
       "       [  83836],\n",
       "       [ 101657],\n",
       "       [ 121465],\n",
       "       [ 140909],\n",
       "       [ 161831],\n",
       "       [ 188172],\n",
       "       [ 213242],\n",
       "       [ 243622],\n",
       "       [ 275367],\n",
       "       [ 308650],\n",
       "       [ 336802],\n",
       "       [ 366317],\n",
       "       [ 397121],\n",
       "       [ 428654],\n",
       "       [ 462780],\n",
       "       [ 496535],\n",
       "       [ 526396],\n",
       "       [ 555313],\n",
       "       [ 580619],\n",
       "       [ 607670],\n",
       "       [ 636350],\n",
       "       [ 667592],\n",
       "       [ 699706],\n",
       "       [ 727959],\n",
       "       [ 754376],\n",
       "       [ 779682],\n",
       "       [ 807023],\n",
       "       [ 835150],\n",
       "       [ 869170],\n",
       "       [ 905358],\n",
       "       [ 938154],\n",
       "       [ 965785],\n",
       "       [ 988197],\n",
       "       [1012582],\n",
       "       [1039909],\n",
       "       [1069424],\n",
       "       [1103461],\n",
       "       [1132539],\n",
       "       [1158040],\n",
       "       [1180375],\n",
       "       [1204351],\n",
       "       [1229331],\n",
       "       [1257023],\n",
       "       [1283929],\n",
       "       [1309550],\n",
       "       [1329260],\n",
       "       [1347881],\n",
       "       [1369574],\n",
       "       [1390406],\n",
       "       [1417774]], dtype=int64)"
      ]
     },
     "execution_count": 69,
     "metadata": {},
     "output_type": "execute_result"
    }
   ],
   "source": [
    "usa_cases#array of total no of case emerge in the usa from the strat date"
   ]
  },
  {
   "cell_type": "code",
   "execution_count": 70,
   "metadata": {},
   "outputs": [
    {
     "data": {
      "text/plain": [
       "array([[    0],\n",
       "       [    0],\n",
       "       [    0],\n",
       "       [    0],\n",
       "       [    0],\n",
       "       [    0],\n",
       "       [    0],\n",
       "       [    0],\n",
       "       [    0],\n",
       "       [    0],\n",
       "       [    0],\n",
       "       [    0],\n",
       "       [    0],\n",
       "       [    0],\n",
       "       [    0],\n",
       "       [    0],\n",
       "       [    0],\n",
       "       [    0],\n",
       "       [    0],\n",
       "       [    0],\n",
       "       [    0],\n",
       "       [    0],\n",
       "       [    0],\n",
       "       [    0],\n",
       "       [    0],\n",
       "       [    0],\n",
       "       [    0],\n",
       "       [    0],\n",
       "       [    0],\n",
       "       [    0],\n",
       "       [    0],\n",
       "       [    0],\n",
       "       [    0],\n",
       "       [    0],\n",
       "       [    0],\n",
       "       [    0],\n",
       "       [    0],\n",
       "       [    0],\n",
       "       [    1],\n",
       "       [    1],\n",
       "       [    6],\n",
       "       [    7],\n",
       "       [   11],\n",
       "       [   12],\n",
       "       [   14],\n",
       "       [   17],\n",
       "       [   21],\n",
       "       [   22],\n",
       "       [   28],\n",
       "       [   32],\n",
       "       [   41],\n",
       "       [   50],\n",
       "       [   56],\n",
       "       [   70],\n",
       "       [   98],\n",
       "       [  132],\n",
       "       [  189],\n",
       "       [  267],\n",
       "       [  363],\n",
       "       [  453],\n",
       "       [  596],\n",
       "       [  781],\n",
       "       [ 1008],\n",
       "       [ 1316],\n",
       "       [ 1726],\n",
       "       [ 2265],\n",
       "       [ 2886],\n",
       "       [ 3518],\n",
       "       [ 4316],\n",
       "       [ 5531],\n",
       "       [ 6736],\n",
       "       [ 8286],\n",
       "       [ 9573],\n",
       "       [10834],\n",
       "       [12245],\n",
       "       [13894],\n",
       "       [16191],\n",
       "       [18270],\n",
       "       [20264],\n",
       "       [22333],\n",
       "       [24342],\n",
       "       [26086],\n",
       "       [27870],\n",
       "       [30262],\n",
       "       [32734],\n",
       "       [34827],\n",
       "       [37411],\n",
       "       [39753],\n",
       "       [40945],\n",
       "       [42659],\n",
       "       [45086],\n",
       "       [47412],\n",
       "       [49724],\n",
       "       [51493],\n",
       "       [53755],\n",
       "       [54881],\n",
       "       [56219],\n",
       "       [58355],\n",
       "       [60967],\n",
       "       [62996],\n",
       "       [64943],\n",
       "       [66369],\n",
       "       [67682],\n",
       "       [68922],\n",
       "       [71064],\n",
       "       [73455],\n",
       "       [75662],\n",
       "       [77180],\n",
       "       [78795],\n",
       "       [79526],\n",
       "       [80682],\n",
       "       [82376],\n",
       "       [84119],\n",
       "       [85898]], dtype=int64)"
      ]
     },
     "execution_count": 70,
     "metadata": {},
     "output_type": "execute_result"
    }
   ],
   "source": [
    "tot_death#array of total no of death_case emerge in the usa from the strat date"
   ]
  },
  {
   "cell_type": "code",
   "execution_count": 71,
   "metadata": {},
   "outputs": [],
   "source": [
    "#future foescasting for next days\n",
    "#i have add the 10 days more to the total number of the days\n",
    "dif=10\n",
    "future_forecast=np.array([i for i in range(len(dates)+dif)]).reshape(-1,1)\n",
    "adjusted_dates=future_forecast[:-10]"
   ]
  },
  {
   "cell_type": "code",
   "execution_count": 72,
   "metadata": {},
   "outputs": [
    {
     "data": {
      "text/plain": [
       "array([[  0],\n",
       "       [  1],\n",
       "       [  2],\n",
       "       [  3],\n",
       "       [  4],\n",
       "       [  5],\n",
       "       [  6],\n",
       "       [  7],\n",
       "       [  8],\n",
       "       [  9],\n",
       "       [ 10],\n",
       "       [ 11],\n",
       "       [ 12],\n",
       "       [ 13],\n",
       "       [ 14],\n",
       "       [ 15],\n",
       "       [ 16],\n",
       "       [ 17],\n",
       "       [ 18],\n",
       "       [ 19],\n",
       "       [ 20],\n",
       "       [ 21],\n",
       "       [ 22],\n",
       "       [ 23],\n",
       "       [ 24],\n",
       "       [ 25],\n",
       "       [ 26],\n",
       "       [ 27],\n",
       "       [ 28],\n",
       "       [ 29],\n",
       "       [ 30],\n",
       "       [ 31],\n",
       "       [ 32],\n",
       "       [ 33],\n",
       "       [ 34],\n",
       "       [ 35],\n",
       "       [ 36],\n",
       "       [ 37],\n",
       "       [ 38],\n",
       "       [ 39],\n",
       "       [ 40],\n",
       "       [ 41],\n",
       "       [ 42],\n",
       "       [ 43],\n",
       "       [ 44],\n",
       "       [ 45],\n",
       "       [ 46],\n",
       "       [ 47],\n",
       "       [ 48],\n",
       "       [ 49],\n",
       "       [ 50],\n",
       "       [ 51],\n",
       "       [ 52],\n",
       "       [ 53],\n",
       "       [ 54],\n",
       "       [ 55],\n",
       "       [ 56],\n",
       "       [ 57],\n",
       "       [ 58],\n",
       "       [ 59],\n",
       "       [ 60],\n",
       "       [ 61],\n",
       "       [ 62],\n",
       "       [ 63],\n",
       "       [ 64],\n",
       "       [ 65],\n",
       "       [ 66],\n",
       "       [ 67],\n",
       "       [ 68],\n",
       "       [ 69],\n",
       "       [ 70],\n",
       "       [ 71],\n",
       "       [ 72],\n",
       "       [ 73],\n",
       "       [ 74],\n",
       "       [ 75],\n",
       "       [ 76],\n",
       "       [ 77],\n",
       "       [ 78],\n",
       "       [ 79],\n",
       "       [ 80],\n",
       "       [ 81],\n",
       "       [ 82],\n",
       "       [ 83],\n",
       "       [ 84],\n",
       "       [ 85],\n",
       "       [ 86],\n",
       "       [ 87],\n",
       "       [ 88],\n",
       "       [ 89],\n",
       "       [ 90],\n",
       "       [ 91],\n",
       "       [ 92],\n",
       "       [ 93],\n",
       "       [ 94],\n",
       "       [ 95],\n",
       "       [ 96],\n",
       "       [ 97],\n",
       "       [ 98],\n",
       "       [ 99],\n",
       "       [100],\n",
       "       [101],\n",
       "       [102],\n",
       "       [103],\n",
       "       [104],\n",
       "       [105],\n",
       "       [106],\n",
       "       [107],\n",
       "       [108],\n",
       "       [109],\n",
       "       [110],\n",
       "       [111],\n",
       "       [112],\n",
       "       [113],\n",
       "       [114],\n",
       "       [115],\n",
       "       [116],\n",
       "       [117],\n",
       "       [118],\n",
       "       [119],\n",
       "       [120],\n",
       "       [121],\n",
       "       [122],\n",
       "       [123]])"
      ]
     },
     "execution_count": 72,
     "metadata": {},
     "output_type": "execute_result"
    }
   ],
   "source": [
    "future_forecast#now it has become 113 to (113+10 days further=123 for future forecasting)"
   ]
  },
  {
   "cell_type": "code",
   "execution_count": 73,
   "metadata": {},
   "outputs": [],
   "source": [
    "#converting the int value into date time value for better visualization\n",
    "\n",
    "start='1/22/2020'\n",
    "start_date=datetime.datetime.strptime(start,'%m/%d/%Y')\n",
    "future_forecast_dates=[]\n",
    "for i in range(len(future_forecast)):\n",
    "    future_forecast_dates.append((start_date+datetime.timedelta(days=i)).strftime('%m/%d/%Y'))\n",
    "    "
   ]
  },
  {
   "cell_type": "code",
   "execution_count": 74,
   "metadata": {},
   "outputs": [
    {
     "data": {
      "text/plain": [
       "['01/22/2020',\n",
       " '01/23/2020',\n",
       " '01/24/2020',\n",
       " '01/25/2020',\n",
       " '01/26/2020',\n",
       " '01/27/2020',\n",
       " '01/28/2020',\n",
       " '01/29/2020',\n",
       " '01/30/2020',\n",
       " '01/31/2020',\n",
       " '02/01/2020',\n",
       " '02/02/2020',\n",
       " '02/03/2020',\n",
       " '02/04/2020',\n",
       " '02/05/2020',\n",
       " '02/06/2020',\n",
       " '02/07/2020',\n",
       " '02/08/2020',\n",
       " '02/09/2020',\n",
       " '02/10/2020',\n",
       " '02/11/2020',\n",
       " '02/12/2020',\n",
       " '02/13/2020',\n",
       " '02/14/2020',\n",
       " '02/15/2020',\n",
       " '02/16/2020',\n",
       " '02/17/2020',\n",
       " '02/18/2020',\n",
       " '02/19/2020',\n",
       " '02/20/2020',\n",
       " '02/21/2020',\n",
       " '02/22/2020',\n",
       " '02/23/2020',\n",
       " '02/24/2020',\n",
       " '02/25/2020',\n",
       " '02/26/2020',\n",
       " '02/27/2020',\n",
       " '02/28/2020',\n",
       " '02/29/2020',\n",
       " '03/01/2020',\n",
       " '03/02/2020',\n",
       " '03/03/2020',\n",
       " '03/04/2020',\n",
       " '03/05/2020',\n",
       " '03/06/2020',\n",
       " '03/07/2020',\n",
       " '03/08/2020',\n",
       " '03/09/2020',\n",
       " '03/10/2020',\n",
       " '03/11/2020',\n",
       " '03/12/2020',\n",
       " '03/13/2020',\n",
       " '03/14/2020',\n",
       " '03/15/2020',\n",
       " '03/16/2020',\n",
       " '03/17/2020',\n",
       " '03/18/2020',\n",
       " '03/19/2020',\n",
       " '03/20/2020',\n",
       " '03/21/2020',\n",
       " '03/22/2020',\n",
       " '03/23/2020',\n",
       " '03/24/2020',\n",
       " '03/25/2020',\n",
       " '03/26/2020',\n",
       " '03/27/2020',\n",
       " '03/28/2020',\n",
       " '03/29/2020',\n",
       " '03/30/2020',\n",
       " '03/31/2020',\n",
       " '04/01/2020',\n",
       " '04/02/2020',\n",
       " '04/03/2020',\n",
       " '04/04/2020',\n",
       " '04/05/2020',\n",
       " '04/06/2020',\n",
       " '04/07/2020',\n",
       " '04/08/2020',\n",
       " '04/09/2020',\n",
       " '04/10/2020',\n",
       " '04/11/2020',\n",
       " '04/12/2020',\n",
       " '04/13/2020',\n",
       " '04/14/2020',\n",
       " '04/15/2020',\n",
       " '04/16/2020',\n",
       " '04/17/2020',\n",
       " '04/18/2020',\n",
       " '04/19/2020',\n",
       " '04/20/2020',\n",
       " '04/21/2020',\n",
       " '04/22/2020',\n",
       " '04/23/2020',\n",
       " '04/24/2020',\n",
       " '04/25/2020',\n",
       " '04/26/2020',\n",
       " '04/27/2020',\n",
       " '04/28/2020',\n",
       " '04/29/2020',\n",
       " '04/30/2020',\n",
       " '05/01/2020',\n",
       " '05/02/2020',\n",
       " '05/03/2020',\n",
       " '05/04/2020',\n",
       " '05/05/2020',\n",
       " '05/06/2020',\n",
       " '05/07/2020',\n",
       " '05/08/2020',\n",
       " '05/09/2020',\n",
       " '05/10/2020',\n",
       " '05/11/2020',\n",
       " '05/12/2020',\n",
       " '05/13/2020',\n",
       " '05/14/2020',\n",
       " '05/15/2020',\n",
       " '05/16/2020',\n",
       " '05/17/2020',\n",
       " '05/18/2020',\n",
       " '05/19/2020',\n",
       " '05/20/2020',\n",
       " '05/21/2020',\n",
       " '05/22/2020',\n",
       " '05/23/2020',\n",
       " '05/24/2020']"
      ]
     },
     "execution_count": 74,
     "metadata": {},
     "output_type": "execute_result"
    }
   ],
   "source": [
    "future_forecast_dates#printing in the date in the perfect format format "
   ]
  },
  {
   "cell_type": "code",
   "execution_count": 75,
   "metadata": {},
   "outputs": [],
   "source": [
    "#visualization with latest date of 14may\n",
    "\n",
    "latest_conf=conf_case[dates[-1]]\n",
    "latest_death=death_case[dates[-1]]"
   ]
  },
  {
   "cell_type": "code",
   "execution_count": 76,
   "metadata": {},
   "outputs": [
    {
     "data": {
      "text/plain": [
       "0          0\n",
       "1        152\n",
       "2         19\n",
       "3       2427\n",
       "4         69\n",
       "        ... \n",
       "3256      29\n",
       "3257      13\n",
       "3258     187\n",
       "3259      16\n",
       "3260     214\n",
       "Name: 5/14/20, Length: 3261, dtype: int64"
      ]
     },
     "execution_count": 76,
     "metadata": {},
     "output_type": "execute_result"
    }
   ],
   "source": [
    "latest_conf #last column value for all dataset giving yoiu the conf case across various regiion"
   ]
  },
  {
   "cell_type": "code",
   "execution_count": 77,
   "metadata": {},
   "outputs": [
    {
     "data": {
      "text/plain": [
       "0         0\n",
       "1         5\n",
       "2         2\n",
       "3       117\n",
       "4         6\n",
       "       ... \n",
       "3256      0\n",
       "3257      0\n",
       "3258      3\n",
       "3259      0\n",
       "3260      3\n",
       "Name: 5/14/20, Length: 3261, dtype: int64"
      ]
     },
     "execution_count": 77,
     "metadata": {},
     "output_type": "execute_result"
    }
   ],
   "source": [
    "latest_death #last column value for all dataset giving yoiu the DEATH case across various regiion"
   ]
  },
  {
   "cell_type": "code",
   "execution_count": 78,
   "metadata": {},
   "outputs": [
    {
     "data": {
      "text/plain": [
       "['American Samoa',\n",
       " 'Guam',\n",
       " 'Northern Mariana Islands',\n",
       " 'Puerto Rico',\n",
       " 'Virgin Islands',\n",
       " 'Alabama',\n",
       " 'Alaska',\n",
       " 'Arizona',\n",
       " 'Arkansas',\n",
       " 'California',\n",
       " 'Colorado',\n",
       " 'Connecticut',\n",
       " 'Delaware',\n",
       " 'District of Columbia',\n",
       " 'Florida',\n",
       " 'Georgia',\n",
       " 'Hawaii',\n",
       " 'Idaho',\n",
       " 'Illinois',\n",
       " 'Indiana',\n",
       " 'Iowa',\n",
       " 'Kansas',\n",
       " 'Kentucky',\n",
       " 'Louisiana',\n",
       " 'Maine',\n",
       " 'Maryland',\n",
       " 'Massachusetts',\n",
       " 'Michigan',\n",
       " 'Minnesota',\n",
       " 'Mississippi',\n",
       " 'Missouri',\n",
       " 'Montana',\n",
       " 'Nebraska',\n",
       " 'Nevada',\n",
       " 'New Hampshire',\n",
       " 'New Jersey',\n",
       " 'New Mexico',\n",
       " 'New York',\n",
       " 'North Carolina',\n",
       " 'North Dakota',\n",
       " 'Ohio',\n",
       " 'Oklahoma',\n",
       " 'Oregon',\n",
       " 'Pennsylvania',\n",
       " 'Rhode Island',\n",
       " 'South Carolina',\n",
       " 'South Dakota',\n",
       " 'Tennessee',\n",
       " 'Texas',\n",
       " 'Utah',\n",
       " 'Vermont',\n",
       " 'Virginia',\n",
       " 'Washington',\n",
       " 'West Virginia',\n",
       " 'Wisconsin',\n",
       " 'Wyoming',\n",
       " 'Diamond Princess',\n",
       " 'Grand Princess']"
      ]
     },
     "execution_count": 78,
     "metadata": {},
     "output_type": "execute_result"
    }
   ],
   "source": [
    "#unique regiions or country list \n",
    "unique_prov=list(conf_case['Province_State'].unique())\n",
    "unique_prov"
   ]
  },
  {
   "cell_type": "code",
   "execution_count": 79,
   "metadata": {},
   "outputs": [],
   "source": [
    "#calu total con case in us\n",
    "prov_conf_cases=[]\n",
    "no_cases=[]\n",
    "for i in unique_prov:\n",
    "    cases=latest_conf[conf_case['Province_State']==i].sum()\n",
    "    if cases>0:\n",
    "        prov_conf_cases.append(cases)\n",
    "    else:\n",
    "        no_cases.append(i)\n",
    "\n",
    "for i in no_cases:\n",
    "    unique_prov.remove(i)\n",
    "    "
   ]
  },
  {
   "cell_type": "code",
   "execution_count": 80,
   "metadata": {},
   "outputs": [
    {
     "name": "stdout",
     "output_type": "stream",
     "text": [
      "\tGuam:\t152  cases\n",
      "\tNorthern Mariana Islands:\t19  cases\n",
      "\tPuerto Rico:\t2427  cases\n",
      "\tVirgin Islands:\t69  cases\n",
      "\tAlabama:\t11101  cases\n",
      "\tAlaska:\t383  cases\n",
      "\tArizona:\t12674  cases\n",
      "\tArkansas:\t4366  cases\n",
      "\tCalifornia:\t74871  cases\n",
      "\tColorado:\t20838  cases\n",
      "\tConnecticut:\t35464  cases\n",
      "\tDelaware:\t7223  cases\n",
      "\tDistrict of Columbia:\t6736  cases\n",
      "\tFlorida:\t43210  cases\n",
      "\tGeorgia:\t35977  cases\n",
      "\tHawaii:\t637  cases\n",
      "\tIdaho:\t2351  cases\n",
      "\tIllinois:\t87937  cases\n",
      "\tIndiana:\t26053  cases\n",
      "\tIowa:\t13675  cases\n",
      "\tKansas:\t7705  cases\n",
      "\tKentucky:\t7225  cases\n",
      "\tLouisiana:\t33489  cases\n",
      "\tMaine:\t1565  cases\n",
      "\tMaryland:\t35903  cases\n",
      "\tMassachusetts:\t82182  cases\n",
      "\tMichigan:\t49582  cases\n",
      "\tMinnesota:\t13435  cases\n",
      "\tMississippi:\t10483  cases\n",
      "\tMissouri:\t10594  cases\n",
      "\tMontana:\t462  cases\n",
      "\tNebraska:\t9260  cases\n",
      "\tNevada:\t6504  cases\n",
      "\tNew Hampshire:\t3382  cases\n",
      "\tNew Jersey:\t142704  cases\n",
      "\tNew Mexico:\t5503  cases\n",
      "\tNew York:\t343051  cases\n",
      "\tNorth Carolina:\t16968  cases\n",
      "\tNorth Dakota:\t1712  cases\n",
      "\tOhio:\t26357  cases\n",
      "\tOklahoma:\t4963  cases\n",
      "\tOregon:\t3479  cases\n",
      "\tPennsylvania:\t63105  cases\n",
      "\tRhode Island:\t12016  cases\n",
      "\tSouth Carolina:\t8189  cases\n",
      "\tSouth Dakota:\t3792  cases\n",
      "\tTennessee:\t16699  cases\n",
      "\tTexas:\t44480  cases\n",
      "\tUtah:\t6749  cases\n",
      "\tVermont:\t932  cases\n",
      "\tVirginia:\t27813  cases\n",
      "\tWashington:\t17773  cases\n",
      "\tWest Virginia:\t1427  cases\n",
      "\tWisconsin:\t11275  cases\n",
      "\tWyoming:\t701  cases\n",
      "\tDiamond Princess:\t49  cases\n",
      "\tGrand Princess:\t103  cases\n"
     ]
    }
   ],
   "source": [
    "#now no of case according to the per provi/state/city\n",
    "\n",
    "for i in range(len(unique_prov)):\n",
    "    print(f'\\t{unique_prov[i]}:\\t{prov_conf_cases[i]}  cases')"
   ]
  },
  {
   "cell_type": "code",
   "execution_count": 81,
   "metadata": {},
   "outputs": [],
   "source": [
    "#handlind the na value if any\n",
    "nan_ind=[]\n",
    "\n",
    "for i in range(len(unique_prov)):\n",
    "    if type(unique_prov[i])==float:\n",
    "        nan_ind.append(i)\n",
    "\n",
    "unique_prov=list(unique_prov)\n",
    "prov_conf_cases=list(prov_conf_cases)\n",
    "\n",
    "for i in nan_ind:\n",
    "    unique_prov.pop(i)\n",
    "    prov_conf_cases.pop(i)"
   ]
  },
  {
   "cell_type": "code",
   "execution_count": 82,
   "metadata": {},
   "outputs": [
    {
     "data": {
      "text/plain": [
       "Text(0.5, 0, 'NUMBER OF COVID-19 CONF CASES IN USA')"
      ]
     },
     "execution_count": 82,
     "metadata": {},
     "output_type": "execute_result"
    },
    {
     "data": {
      "image/png": "[encoded data removed]",
      "text/plain": [
       "<Figure size 2304x2304 with 1 Axes>"
      ]
     },
     "metadata": {
      "needs_background": "light"
     },
     "output_type": "display_data"
    }
   ],
   "source": [
    "plt.figure(figsize=(32,32))\n",
    "plt.bar(unique_prov,prov_conf_cases)\n",
    "plt.title(\"NUMBER OF COVID-19 CONF CASES IN USA\")\n",
    "plt.xlabel(\"NUMBER OF COVID-19 CONF CASES IN USA\")"
   ]
  },
  {
   "cell_type": "code",
   "execution_count": 83,
   "metadata": {},
   "outputs": [
    {
     "data": {
      "image/png": "[encoded data removed]",
      "text/plain": [
       "<Figure size 1152x648 with 1 Axes>"
      ]
     },
     "metadata": {
      "needs_background": "light"
     },
     "output_type": "display_data"
    }
   ],
   "source": [
    "ny_conf=latest_conf[conf_case['Province_State']==\"New York\"].sum()\n",
    "all_other=np.sum(prov_conf_cases)-ny_conf\n",
    "plt.figure(figsize=(16,9))\n",
    "plt.barh(\"NEW YORK\",ny_conf)\n",
    "plt.barh(\"ALL OTHER\",all_other)\n",
    "plt.title(\"NO OF CONFIRMED CASE\")\n",
    "plt.show()"
   ]
  },
  {
   "cell_type": "code",
   "execution_count": 84,
   "metadata": {},
   "outputs": [
    {
     "name": "stdout",
     "output_type": "stream",
     "text": [
      "--------------------------------------------------------\n",
      "| NEW YORK CASES:\t|\t\t 343051 \t|\n",
      "| ALL OTHER STATE:\t|\t\t 1074723 \t|\n",
      "| TOTAL: \t\t|\t\t 1417774 \t|\n",
      "--------------------------------------------------------\n"
     ]
    }
   ],
   "source": [
    "print(\"--------------------------------------------------------\")\n",
    "print(\"| NEW YORK CASES:\\t|\\t\\t\",format(ny_conf),\"\\t|\")\n",
    "print(\"| ALL OTHER STATE:\\t|\\t\\t\",format(all_other),\"\\t|\")\n",
    "print(\"| TOTAL: \\t\\t|\\t\\t\",format(ny_conf+all_other),\"\\t|\")\n",
    "print(\"--------------------------------------------------------\")"
   ]
  },
  {
   "cell_type": "code",
   "execution_count": 85,
   "metadata": {},
   "outputs": [],
   "source": [
    "# less no of conf in the other and the top ten state with higher no of conf\n",
    "vi_unique_state=[]\n",
    "vi_conf_cases=[]\n",
    "other=np.sum(prov_conf_cases[10:])\n",
    "for i in range(len(prov_conf_cases[:10])):\n",
    "    vi_unique_state.append(unique_prov[i])\n",
    "    vi_conf_cases.append(prov_conf_cases[i])\n",
    "    \n",
    "vi_unique_state.append(\"Others\")\n",
    "vi_conf_cases.append(\"others\")\n",
    "     "
   ]
  },
  {
   "cell_type": "code",
   "execution_count": 86,
   "metadata": {},
   "outputs": [
    {
     "name": "stdout",
     "output_type": "stream",
     "text": [
      "\n",
      "\n",
      " ['Guam', 'Northern Mariana Islands', 'Puerto Rico', 'Virgin Islands', 'Alabama', 'Alaska', 'Arizona', 'Arkansas', 'California', 'Colorado', 'Others']\n",
      "\n",
      "\n",
      " [152, 19, 2427, 69, 11101, 383, 12674, 4366, 74871, 20838, 'others']\n"
     ]
    }
   ],
   "source": [
    "print(\"\\n\\n\",list(vi_unique_state))\n",
    "print(\"\\n\\n\",list(vi_conf_cases))"
   ]
  },
  {
   "cell_type": "code",
   "execution_count": 87,
   "metadata": {},
   "outputs": [],
   "source": [
    "#ploting"
   ]
  },
  {
   "cell_type": "markdown",
   "metadata": {},
   "source": [
    "#  BUILDING THE \"\"SVM\"\" MODEL TO PREDICT THE UPCOMING TOTAL NO \n",
    "\n",
    "# OF CONFIRMED CASES IN NEXT 10 DAYS"
   ]
  },
  {
   "cell_type": "code",
   "execution_count": 88,
   "metadata": {},
   "outputs": [],
   "source": [
    "from sklearn.model_selection import RandomizedSearchCV,train_test_split\n",
    "from sklearn.svm import SVR\n",
    "from sklearn.metrics import mean_squared_error,mean_absolute_error"
   ]
  },
  {
   "cell_type": "code",
   "execution_count": 89,
   "metadata": {},
   "outputs": [],
   "source": [
    "#X_train_confirmed, X_test_confirmed, y_train_confirmed, y_test_confirmed = train_test_split(date_since_1_22, usa_cases, test_size=0.15, shuffle=False)\n",
    "\n",
    "X_train_confirmed, X_test_confirmed, y_train_confirmed, y_test_confirmed = train_test_split(d_sin, u_case, test_size=0.15, shuffle=False)"
   ]
  },
  {
   "cell_type": "code",
   "execution_count": 90,
   "metadata": {},
   "outputs": [
    {
     "data": {
      "text/plain": [
       "array([[1180375],\n",
       "       [1204351],\n",
       "       [1229331],\n",
       "       [1257023],\n",
       "       [1283929],\n",
       "       [1309550],\n",
       "       [1329260],\n",
       "       [1347881],\n",
       "       [1369574],\n",
       "       [1390406],\n",
       "       [1417774]], dtype=int64)"
      ]
     },
     "execution_count": 90,
     "metadata": {},
     "output_type": "execute_result"
    }
   ],
   "source": [
    "y_test_confirmed"
   ]
  },
  {
   "cell_type": "code",
   "execution_count": 91,
   "metadata": {
    "scrolled": true
   },
   "outputs": [
    {
     "name": "stdout",
     "output_type": "stream",
     "text": [
      "Fitting 3 folds for each of 40 candidates, totalling 120 fits\n"
     ]
    },
    {
     "name": "stderr",
     "output_type": "stream",
     "text": [
      "[Parallel(n_jobs=-1)]: Using backend LokyBackend with 4 concurrent workers.\n",
      "[Parallel(n_jobs=-1)]: Done 120 out of 120 | elapsed:  1.7min finished\n",
      "E:\\python\\lib\\site-packages\\sklearn\\model_selection\\_search.py:814: DeprecationWarning: The default of the `iid` parameter will change from True to False in version 0.22 and will be removed in 0.24. This will change numeric results when test-set sizes are unequal.\n",
      "  DeprecationWarning)\n",
      "E:\\python\\lib\\site-packages\\sklearn\\utils\\validation.py:724: DataConversionWarning: A column-vector y was passed when a 1d array was expected. Please change the shape of y to (n_samples, ), for example using ravel().\n",
      "  y = column_or_1d(y, warn=True)\n"
     ]
    },
    {
     "data": {
      "text/plain": [
       "RandomizedSearchCV(cv=3, error_score='raise-deprecating',\n",
       "                   estimator=SVR(C=1.0, cache_size=200, coef0=0.0, degree=3,\n",
       "                                 epsilon=0.1, gamma='auto_deprecated',\n",
       "                                 kernel='rbf', max_iter=-1, shrinking=True,\n",
       "                                 tol=0.001, verbose=False),\n",
       "                   iid='warn', n_iter=40, n_jobs=-1,\n",
       "                   param_distributions={'C': [0.01, 0.1, 1, 10],\n",
       "                                        'epsilon': [0.01, 0.1, 1],\n",
       "                                        'gamma': [0.01, 0.1, 1],\n",
       "                                        'kernel': ['poly', 'sigmoid', 'rbf'],\n",
       "                                        'shrinking': [True, False]},\n",
       "                   pre_dispatch='2*n_jobs', random_state=None, refit=True,\n",
       "                   return_train_score=True, scoring='neg_mean_squared_error',\n",
       "                   verbose=1)"
      ]
     },
     "execution_count": 91,
     "metadata": {},
     "output_type": "execute_result"
    }
   ],
   "source": [
    "kernel=['poly','sigmoid','rbf']#by default rbf is used\n",
    "c=[0.01,0.1,1,10]\n",
    "gamma=[0.01,0.1,1]\n",
    "epsilon=[0.01,0.1,1]\n",
    "shrinking=[True, False]\n",
    "\n",
    "svm_grid={'kernel':kernel,'C':c,'gamma':gamma,'epsilon':epsilon,'shrinking':shrinking}\n",
    "\n",
    "\n",
    "svm=SVR()\n",
    "svm_search=RandomizedSearchCV(svm,svm_grid,scoring='neg_mean_squared_error',cv=3,return_train_score=True,n_jobs=-1,n_iter=40,verbose=1)\n",
    "svm_search.fit(X_train_confirmed,y_train_confirmed)"
   ]
  },
  {
   "cell_type": "code",
   "execution_count": 92,
   "metadata": {},
   "outputs": [
    {
     "data": {
      "text/plain": [
       "{'shrinking': False, 'kernel': 'poly', 'gamma': 1, 'epsilon': 1, 'C': 0.01}"
      ]
     },
     "execution_count": 92,
     "metadata": {},
     "output_type": "execute_result"
    }
   ],
   "source": [
    "svm_search.best_params_"
   ]
  },
  {
   "cell_type": "code",
   "execution_count": 93,
   "metadata": {},
   "outputs": [],
   "source": [
    "svm_conf=svm_search.best_estimator_\n",
    "svm_pred=svm_conf.predict(future_forecast)"
   ]
  },
  {
   "cell_type": "code",
   "execution_count": 94,
   "metadata": {},
   "outputs": [
    {
     "data": {
      "text/plain": [
       "SVR(C=0.01, cache_size=200, coef0=0.0, degree=3, epsilon=1, gamma=1,\n",
       "    kernel='poly', max_iter=-1, shrinking=False, tol=0.001, verbose=False)"
      ]
     },
     "execution_count": 94,
     "metadata": {},
     "output_type": "execute_result"
    }
   ],
   "source": [
    "svm_conf#to find the best estimator"
   ]
  },
  {
   "cell_type": "code",
   "execution_count": 95,
   "metadata": {},
   "outputs": [
    {
     "data": {
      "text/plain": [
       "[-199025.7104023985,\n",
       " -199024.3529658227,\n",
       " -199014.85090979232,\n",
       " -198989.05961485323,\n",
       " -198938.83446154918,\n",
       " -198856.03083042905,\n",
       " -198732.50410203647,\n",
       " -198560.10965691519,\n",
       " -198330.70287560404,\n",
       " -198036.1391386838,\n",
       " -197668.273826643,\n",
       " -197218.96232008294,\n",
       " -196680.05999950238,\n",
       " -196043.42224545323,\n",
       " -195300.90443853207,\n",
       " -194444.36195924797,\n",
       " -193465.6501880429,\n",
       " -192356.62450580217,\n",
       " -191109.14029268094,\n",
       " -189715.05292928137,\n",
       " -188166.21779635467,\n",
       " -186454.4902744434,\n",
       " -184571.7257438741,\n",
       " -182509.77958488383,\n",
       " -180260.50717922964,\n",
       " -177815.76390626945,\n",
       " -175167.40514683642,\n",
       " -172307.28628244915,\n",
       " -169227.2626914672,\n",
       " -165919.189756333,\n",
       " -162374.92285719432,\n",
       " -158586.31737473526,\n",
       " -154545.22868755378,\n",
       " -150243.51217934408,\n",
       " -145673.023229628,\n",
       " -140825.61721697368,\n",
       " -135693.1495246581,\n",
       " -130267.475531011,\n",
       " -124540.45061746158,\n",
       " -118503.93016472377,\n",
       " -112149.76955404796,\n",
       " -105469.82416596927,\n",
       " -98455.94937875785,\n",
       " -91100.00057497539,\n",
       " -83393.83313420333,\n",
       " -75329.30243673839,\n",
       " -66898.26386228122,\n",
       " -58092.5727984003,\n",
       " -48904.08461704769,\n",
       " -39324.65470042743,\n",
       " -29346.1384333662,\n",
       " -18960.391192107578,\n",
       " -8159.26835790195,\n",
       " 3065.3746846624417,\n",
       " 14721.68255719624,\n",
       " 26817.799889654736,\n",
       " 39361.87128505192,\n",
       " 52362.041372151,\n",
       " 65826.4547661253,\n",
       " 79763.2560888239,\n",
       " 94180.58995923481,\n",
       " 109086.60100182972,\n",
       " 124489.43381890736,\n",
       " 140397.23305520497,\n",
       " 156818.14331635914,\n",
       " 173760.30921277485,\n",
       " 191231.8753820368,\n",
       " 209240.98643025837,\n",
       " 227795.78697976551,\n",
       " 246904.42166146717,\n",
       " 266575.03508099995,\n",
       " 286815.77186068974,\n",
       " 307634.7766195246,\n",
       " 329040.1939903208,\n",
       " 351040.16856870137,\n",
       " 373642.8449946352,\n",
       " 396856.36787709675,\n",
       " 420688.881832213,\n",
       " 445148.5314989992,\n",
       " 470243.4614592501,\n",
       " 495981.8163844057,\n",
       " 522371.7408448168,\n",
       " 549421.3794890352,\n",
       " 577138.8769370028,\n",
       " 605532.3777867266,\n",
       " 634610.026688666,\n",
       " 664379.9682169863,\n",
       " 694850.3470364519,\n",
       " 726029.3077431627,\n",
       " 757924.9949713656,\n",
       " 790545.5533228823,\n",
       " 823899.1274186083,\n",
       " 857993.8619185396,\n",
       " 892837.9013491579,\n",
       " 928439.390429587,\n",
       " 964806.4737330385,\n",
       " 1001947.2958804079,\n",
       " 1039870.0015078493,\n",
       " 1078582.73521337,\n",
       " 1118093.6416293094,\n",
       " 1158410.86534986,\n",
       " 1199542.5510302493,\n",
       " 1241496.843279929,\n",
       " 1284281.8866930911,\n",
       " 1327905.825953574,\n",
       " 1372376.8056040714,\n",
       " 1417702.970294089,\n",
       " 1463892.464663596,\n",
       " 1510953.4332743594,\n",
       " 1558894.0208598087,\n",
       " 1607722.3719340274,\n",
       " 1657446.6311293552,\n",
       " 1708074.943097205,\n",
       " 1759615.4524565646,\n",
       " 1812076.3037939975,\n",
       " 1865465.6417399356,\n",
       " 1919791.610945792,\n",
       " 1975062.3559847781,\n",
       " 2031286.0215273807,\n",
       " 2088470.7521792362,\n",
       " 2146624.692490668,\n",
       " 2205755.987187476,\n",
       " 2265872.7808314273,\n",
       " 2326983.2179995487]"
      ]
     },
     "execution_count": 95,
     "metadata": {},
     "output_type": "execute_result"
    }
   ],
   "source": [
    "list(svm_pred)# pred value now we have to test again the testing data"
   ]
  },
  {
   "cell_type": "code",
   "execution_count": 96,
   "metadata": {
    "scrolled": true
   },
   "outputs": [
    {
     "name": "stdout",
     "output_type": "stream",
     "text": [
      "MAE: 213582.9823599765\n",
      "MSE: 51471081173.26982\n"
     ]
    },
    {
     "data": {
      "image/png": "[encoded data removed]",
      "text/plain": [
       "<Figure size 432x288 with 1 Axes>"
      ]
     },
     "metadata": {
      "needs_background": "light"
     },
     "output_type": "display_data"
    }
   ],
   "source": [
    "#check against testing data\n",
    "\n",
    "svm_test_pred=svm_conf.predict(X_test_confirmed)\n",
    "plt.plot(svm_test_pred)\n",
    "plt.plot(y_test_confirmed)\n",
    "\n",
    "print(\"MAE:\",mean_absolute_error(svm_test_pred,y_test_confirmed))\n",
    "print(\"MSE:\",mean_squared_error(svm_test_pred,y_test_confirmed))"
   ]
  },
  {
   "cell_type": "code",
   "execution_count": 97,
   "metadata": {},
   "outputs": [
    {
     "data": {
      "text/plain": [
       "(array([-200000.,       0.,  200000.,  400000.,  600000.,  800000.,\n",
       "        1000000., 1200000., 1400000., 1600000.]),\n",
       " <a list of 10 Text yticklabel objects>)"
      ]
     },
     "execution_count": 97,
     "metadata": {},
     "output_type": "execute_result"
    },
    {
     "data": {
      "image/png": "[encoded data removed]",
      "text/plain": [
       "<Figure size 1440x864 with 1 Axes>"
      ]
     },
     "metadata": {
      "needs_background": "light"
     },
     "output_type": "display_data"
    }
   ],
   "source": [
    "#total no of coro cases time\n",
    "\n",
    "plt.figure(figsize=(20,12))\n",
    "plt.plot(adjusted_dates,usa_cases)\n",
    "plt.title(\"NO OF CORONA CASE \",size=30)\n",
    "plt.xlabel(\"DAYS SINCE 1/22/2020\",size=30)\n",
    "plt.ylabel(\"NO OF CASES\",size=30)\n",
    "plt.xticks(size=15)\n",
    "plt.yticks(size=15)\n",
    "#plt.legend(['Confirmed cases','SVM_prediction'])"
   ]
  },
  {
   "cell_type": "markdown",
   "metadata": {},
   "source": [
    "# y axis total no of CASES\n",
    "\n",
    "# x axis total no of days\n",
    "\n",
    "# after the 62 days the rate of confirmed cases went HIGH\n"
   ]
  },
  {
   "cell_type": "code",
   "execution_count": 98,
   "metadata": {},
   "outputs": [
    {
     "data": {
      "text/plain": [
       "<matplotlib.legend.Legend at 0x2b2e1b4ddc8>"
      ]
     },
     "execution_count": 98,
     "metadata": {},
     "output_type": "execute_result"
    },
    {
     "data": {
      "image/png": "[encoded data removed]",
      "text/plain": [
       "<Figure size 1440x864 with 1 Axes>"
      ]
     },
     "metadata": {
      "needs_background": "light"
     },
     "output_type": "display_data"
    }
   ],
   "source": [
    "#total no of coFIRMED CASES VS THE PREDICTED cases time\n",
    "\n",
    "plt.figure(figsize=(20,12))\n",
    "plt.plot(adjusted_dates,usa_cases)\n",
    "plt.plot(future_forecast,svm_pred,linestyle=\"dashed\",color='purple')\n",
    "plt.title(\"NO OF CORONA CASE \",size=30)\n",
    "plt.xlabel(\"DAYS SINCE 1/22/2020\",size=30)\n",
    "plt.ylabel(\"NO OF CASES\",size=30)\n",
    "plt.xticks(size=15)\n",
    "plt.yticks(size=15)\n",
    "plt.legend(['Confirmed cases','SVM_prediction'])"
   ]
  },
  {
   "cell_type": "code",
   "execution_count": 99,
   "metadata": {},
   "outputs": [
    {
     "name": "stdout",
     "output_type": "stream",
     "text": [
      "SVM FUTURE PREDTICTION:\n"
     ]
    },
    {
     "data": {
      "text/plain": [
       "{('05/15/2020', 1812076.3037939975),\n",
       " ('05/16/2020', 1865465.6417399356),\n",
       " ('05/17/2020', 1919791.610945792),\n",
       " ('05/18/2020', 1975062.3559847781),\n",
       " ('05/19/2020', 2031286.0215273807),\n",
       " ('05/20/2020', 2088470.7521792362),\n",
       " ('05/21/2020', 2146624.692490668),\n",
       " ('05/22/2020', 2205755.987187476),\n",
       " ('05/23/2020', 2265872.7808314273),\n",
       " ('05/24/2020', 2326983.2179995487)}"
      ]
     },
     "execution_count": 99,
     "metadata": {},
     "output_type": "execute_result"
    }
   ],
   "source": [
    "print(\"SVM FUTURE PREDTICTION:\")\n",
    "set(zip(future_forecast_dates[-10:],svm_pred[-10:]))"
   ]
  },
  {
   "cell_type": "markdown",
   "metadata": {},
   "source": [
    "#  BUILDING THE LINEAR MODEL TO PREDICT THE UPCOMING TOTAL NO \n",
    "\n",
    "# OF CONFIRMED CASES IN NEXT 10 DAYS"
   ]
  },
  {
   "cell_type": "code",
   "execution_count": 100,
   "metadata": {},
   "outputs": [
    {
     "name": "stdout",
     "output_type": "stream",
     "text": [
      "MAE: 213582.9823599765\n",
      "MSE: 51471081173.26982\n"
     ]
    }
   ],
   "source": [
    "from sklearn.linear_model import LinearRegression\n",
    "linear_model=LinearRegression(normalize=True,fit_intercept=True)\n",
    "linear_model.fit(X_train_confirmed,y_train_confirmed)\n",
    "test_linear_pred=linear_model.predict(X_test_confirmed)\n",
    "linear_pred=linear_model.predict(future_forecast)\n",
    "\n",
    "print(\"MAE:\",mean_absolute_error(svm_test_pred,y_test_confirmed))\n",
    "print(\"MSE:\",mean_squared_error(svm_test_pred,y_test_confirmed))"
   ]
  },
  {
   "cell_type": "code",
   "execution_count": 101,
   "metadata": {},
   "outputs": [
    {
     "data": {
      "text/plain": [
       "array([[-1133970.22665257],\n",
       "       [-1112761.667266  ],\n",
       "       [-1091553.10787943],\n",
       "       [-1070344.54849286],\n",
       "       [-1049135.98910629],\n",
       "       [-1027927.42971973],\n",
       "       [-1006718.87033316],\n",
       "       [ -985510.31094659],\n",
       "       [ -964301.75156002],\n",
       "       [ -943093.19217345],\n",
       "       [ -921884.63278689],\n",
       "       [ -900676.07340032],\n",
       "       [ -879467.51401375],\n",
       "       [ -858258.95462718],\n",
       "       [ -837050.39524061],\n",
       "       [ -815841.83585405],\n",
       "       [ -794633.27646748],\n",
       "       [ -773424.71708091],\n",
       "       [ -752216.15769434],\n",
       "       [ -731007.59830777],\n",
       "       [ -709799.03892121],\n",
       "       [ -688590.47953464],\n",
       "       [ -667381.92014807],\n",
       "       [ -646173.3607615 ],\n",
       "       [ -624964.80137493],\n",
       "       [ -603756.24198837],\n",
       "       [ -582547.6826018 ],\n",
       "       [ -561339.12321523],\n",
       "       [ -540130.56382866],\n",
       "       [ -518922.00444209],\n",
       "       [ -497713.44505553],\n",
       "       [ -476504.88566896],\n",
       "       [ -455296.32628239],\n",
       "       [ -434087.76689582],\n",
       "       [ -412879.20750925],\n",
       "       [ -391670.64812269],\n",
       "       [ -370462.08873612],\n",
       "       [ -349253.52934955],\n",
       "       [ -328044.96996298],\n",
       "       [ -306836.41057641],\n",
       "       [ -285627.85118985],\n",
       "       [ -264419.29180328],\n",
       "       [ -243210.73241671],\n",
       "       [ -222002.17303014],\n",
       "       [ -200793.61364357],\n",
       "       [ -179585.05425701],\n",
       "       [ -158376.49487044],\n",
       "       [ -137167.93548387],\n",
       "       [ -115959.3760973 ],\n",
       "       [  -94750.81671074],\n",
       "       [  -73542.25732417],\n",
       "       [  -52333.6979376 ],\n",
       "       [  -31125.13855103],\n",
       "       [   -9916.57916446],\n",
       "       [   11291.9802221 ],\n",
       "       [   32500.53960867],\n",
       "       [   53709.09899524],\n",
       "       [   74917.65838181],\n",
       "       [   96126.21776838],\n",
       "       [  117334.77715494],\n",
       "       [  138543.33654151],\n",
       "       [  159751.89592808],\n",
       "       [  180960.45531465],\n",
       "       [  202169.01470122],\n",
       "       [  223377.57408778],\n",
       "       [  244586.13347435],\n",
       "       [  265794.69286092],\n",
       "       [  287003.25224749],\n",
       "       [  308211.81163406],\n",
       "       [  329420.37102062],\n",
       "       [  350628.93040719],\n",
       "       [  371837.48979376],\n",
       "       [  393046.04918033],\n",
       "       [  414254.6085669 ],\n",
       "       [  435463.16795346],\n",
       "       [  456671.72734003],\n",
       "       [  477880.2867266 ],\n",
       "       [  499088.84611317],\n",
       "       [  520297.40549974],\n",
       "       [  541505.9648863 ],\n",
       "       [  562714.52427287],\n",
       "       [  583923.08365944],\n",
       "       [  605131.64304601],\n",
       "       [  626340.20243258],\n",
       "       [  647548.76181914],\n",
       "       [  668757.32120571],\n",
       "       [  689965.88059228],\n",
       "       [  711174.43997885],\n",
       "       [  732382.99936542],\n",
       "       [  753591.55875198],\n",
       "       [  774800.11813855],\n",
       "       [  796008.67752512],\n",
       "       [  817217.23691169],\n",
       "       [  838425.79629825],\n",
       "       [  859634.35568482],\n",
       "       [  880842.91507139],\n",
       "       [  902051.47445796],\n",
       "       [  923260.03384453],\n",
       "       [  944468.59323109],\n",
       "       [  965677.15261766],\n",
       "       [  986885.71200423],\n",
       "       [ 1008094.2713908 ],\n",
       "       [ 1029302.83077737],\n",
       "       [ 1050511.39016393],\n",
       "       [ 1071719.9495505 ],\n",
       "       [ 1092928.50893707],\n",
       "       [ 1114137.06832364],\n",
       "       [ 1135345.62771021],\n",
       "       [ 1156554.18709677],\n",
       "       [ 1177762.74648334],\n",
       "       [ 1198971.30586991],\n",
       "       [ 1220179.86525648],\n",
       "       [ 1241388.42464305],\n",
       "       [ 1262596.98402961],\n",
       "       [ 1283805.54341618],\n",
       "       [ 1305014.10280275],\n",
       "       [ 1326222.66218932],\n",
       "       [ 1347431.22157589],\n",
       "       [ 1368639.78096245],\n",
       "       [ 1389848.34034902],\n",
       "       [ 1411056.89973559],\n",
       "       [ 1432265.45912216],\n",
       "       [ 1453474.01850873],\n",
       "       [ 1474682.57789529]])"
      ]
     },
     "execution_count": 101,
     "metadata": {},
     "output_type": "execute_result"
    }
   ],
   "source": [
    "linear_pred"
   ]
  },
  {
   "cell_type": "code",
   "execution_count": 102,
   "metadata": {},
   "outputs": [
    {
     "data": {
      "text/plain": [
       "[<matplotlib.lines.Line2D at 0x2b2e1b92448>]"
      ]
     },
     "execution_count": 102,
     "metadata": {},
     "output_type": "execute_result"
    },
    {
     "data": {
      "image/png": "[encoded data removed]",
      "text/plain": [
       "<Figure size 432x288 with 1 Axes>"
      ]
     },
     "metadata": {
      "needs_background": "light"
     },
     "output_type": "display_data"
    }
   ],
   "source": [
    "plt.plot(y_test_confirmed)\n",
    "plt.plot(test_linear_pred)"
   ]
  },
  {
   "cell_type": "code",
   "execution_count": 103,
   "metadata": {},
   "outputs": [
    {
     "data": {
      "text/plain": [
       "<matplotlib.legend.Legend at 0x2b2e1c462c8>"
      ]
     },
     "execution_count": 103,
     "metadata": {},
     "output_type": "execute_result"
    },
    {
     "data": {
      "image/png": "[encoded data removed]",
      "text/plain": [
       "<Figure size 1440x864 with 1 Axes>"
      ]
     },
     "metadata": {
      "needs_background": "light"
     },
     "output_type": "display_data"
    }
   ],
   "source": [
    "plt.figure(figsize=(20,12))\n",
    "plt.plot(adjusted_dates,usa_cases)\n",
    "plt.plot(future_forecast,linear_pred,linestyle=\"dashed\",color='purple')\n",
    "plt.title(\"NO OF CORONA CASE \",size=30)\n",
    "plt.xlabel(\"DAYS SINCE 1/22/2020\",size=30)\n",
    "plt.ylabel(\"NO OF CASES\",size=30)\n",
    "plt.xticks(size=15)\n",
    "plt.yticks(size=15)\n",
    "plt.legend(['Confirmed cases','Linear_Regression_prediction'])"
   ]
  },
  {
   "cell_type": "code",
   "execution_count": 104,
   "metadata": {},
   "outputs": [
    {
     "data": {
      "text/plain": [
       "array([[1283805.54341618],\n",
       "       [1305014.10280275],\n",
       "       [1326222.66218932],\n",
       "       [1347431.22157589],\n",
       "       [1368639.78096245],\n",
       "       [1389848.34034902],\n",
       "       [1411056.89973559],\n",
       "       [1432265.45912216],\n",
       "       [1453474.01850873],\n",
       "       [1474682.57789529]])"
      ]
     },
     "execution_count": 104,
     "metadata": {},
     "output_type": "execute_result"
    }
   ],
   "source": [
    "linear_pred[-10:]#normalize=True,fit_intercept=Tru"
   ]
  },
  {
   "cell_type": "markdown",
   "metadata": {},
   "source": [
    "#  BUILDING THE LOGISTIC MODEL TO PREDICT THE UPCOMING TOTAL  \n",
    "\n",
    "# NO OF CONFIRMED CASES IN NEXT 10 DAYS"
   ]
  },
  {
   "cell_type": "code",
   "execution_count": 105,
   "metadata": {},
   "outputs": [
    {
     "name": "stderr",
     "output_type": "stream",
     "text": [
      "E:\\python\\lib\\site-packages\\sklearn\\linear_model\\logistic.py:432: FutureWarning: Default solver will be changed to 'lbfgs' in 0.22. Specify a solver to silence this warning.\n",
      "  FutureWarning)\n",
      "E:\\python\\lib\\site-packages\\sklearn\\utils\\validation.py:724: DataConversionWarning: A column-vector y was passed when a 1d array was expected. Please change the shape of y to (n_samples, ), for example using ravel().\n",
      "  y = column_or_1d(y, warn=True)\n",
      "E:\\python\\lib\\site-packages\\sklearn\\linear_model\\logistic.py:469: FutureWarning: Default multi_class will be changed to 'auto' in 0.22. Specify the multi_class option to silence this warning.\n",
      "  \"this warning.\", FutureWarning)\n"
     ]
    },
    {
     "name": "stdout",
     "output_type": "stream",
     "text": [
      "MAE: 213582.9823599765\n",
      "MSE: 51471081173.26982\n"
     ]
    }
   ],
   "source": [
    "from sklearn.linear_model import LogisticRegression\n",
    "logi_model=LogisticRegression()\n",
    "logi_model.fit(X_train_confirmed,y_train_confirmed)\n",
    "test_logi_pred=logi_model.predict(X_test_confirmed)\n",
    "logi_pred=logi_model.predict(future_forecast)\n",
    "print(\"MAE:\",mean_absolute_error(svm_test_pred,y_test_confirmed))\n",
    "print(\"MSE:\",mean_squared_error(svm_test_pred,y_test_confirmed))"
   ]
  },
  {
   "cell_type": "code",
   "execution_count": 106,
   "metadata": {},
   "outputs": [
    {
     "data": {
      "text/plain": [
       "[<matplotlib.lines.Line2D at 0x2b2e1c6f2c8>]"
      ]
     },
     "execution_count": 106,
     "metadata": {},
     "output_type": "execute_result"
    },
    {
     "data": {
      "image/png": "[encoded data removed]",
      "text/plain": [
       "<Figure size 432x288 with 1 Axes>"
      ]
     },
     "metadata": {
      "needs_background": "light"
     },
     "output_type": "display_data"
    }
   ],
   "source": [
    "plt.plot(y_test_confirmed)\n",
    "plt.plot(test_logi_pred)"
   ]
  },
  {
   "cell_type": "code",
   "execution_count": 107,
   "metadata": {},
   "outputs": [
    {
     "data": {
      "text/plain": [
       "array([    104,     104,     104,     104,     104,     104,     104,\n",
       "           104,     104,     104,     104,     104,     104,     104,\n",
       "           104,     104,     104,     104,     104,     104,     104,\n",
       "           104,     104,     104,     217,     514,    1557,    4307,\n",
       "          8873,   43663,  101657,  188172,  336802,  462780,  607670,\n",
       "        754376,  938154, 1069424, 1158040, 1158040, 1158040, 1158040,\n",
       "       1158040, 1158040, 1158040, 1158040, 1158040, 1158040, 1158040,\n",
       "       1158040, 1158040, 1158040, 1158040, 1158040, 1158040, 1158040,\n",
       "       1158040, 1158040, 1158040, 1158040, 1158040, 1158040, 1158040,\n",
       "       1158040, 1158040, 1158040, 1158040, 1158040, 1158040, 1158040,\n",
       "       1158040, 1158040, 1158040, 1158040, 1158040, 1158040, 1158040,\n",
       "       1158040, 1158040, 1158040, 1158040, 1158040, 1158040, 1158040,\n",
       "       1158040, 1158040, 1158040, 1158040, 1158040, 1158040, 1158040,\n",
       "       1158040, 1158040, 1158040, 1158040, 1158040, 1158040, 1158040,\n",
       "       1158040, 1158040, 1158040, 1158040, 1158040, 1158040, 1158040,\n",
       "       1158040, 1158040, 1158040, 1158040, 1158040, 1158040, 1158040,\n",
       "       1158040, 1158040, 1158040, 1158040, 1158040, 1158040, 1158040,\n",
       "       1158040, 1158040, 1158040, 1158040, 1158040], dtype=int64)"
      ]
     },
     "execution_count": 107,
     "metadata": {},
     "output_type": "execute_result"
    }
   ],
   "source": [
    "logi_pred"
   ]
  },
  {
   "cell_type": "code",
   "execution_count": 108,
   "metadata": {},
   "outputs": [
    {
     "data": {
      "text/plain": [
       "<matplotlib.legend.Legend at 0x2b2e1c521c8>"
      ]
     },
     "execution_count": 108,
     "metadata": {},
     "output_type": "execute_result"
    },
    {
     "data": {
      "image/png": "[encoded data removed]",
      "text/plain": [
       "<Figure size 1440x864 with 1 Axes>"
      ]
     },
     "metadata": {
      "needs_background": "light"
     },
     "output_type": "display_data"
    }
   ],
   "source": [
    "plt.figure(figsize=(20,12))\n",
    "plt.plot(adjusted_dates,usa_cases)\n",
    "plt.plot(future_forecast,logi_pred,linestyle=\"dashed\",color='purple')\n",
    "plt.title(\"NO OF CORONA CASE \",size=30)\n",
    "plt.xlabel(\"DAYS SINCE 1/22/2020\",size=30)\n",
    "plt.ylabel(\"NO OF CASES\",size=30)\n",
    "plt.xticks(size=15)\n",
    "plt.yticks(size=15)\n",
    "plt.legend(['Confirmed cases','Logi_Regression_prediction'])"
   ]
  },
  {
   "cell_type": "markdown",
   "metadata": {},
   "source": [
    "#  \"INTERESTING THING\" the death should be increasesd from the 30 days from the first case bt till that time the situation is  under control .\n",
    "# But After  next 32 days the situtation was out of control and the confrimed cases start Increasing and it went on increasing the plot should be flatten bt the it went on increasing "
   ]
  },
  {
   "cell_type": "code",
   "execution_count": 109,
   "metadata": {},
   "outputs": [
    {
     "name": "stdout",
     "output_type": "stream",
     "text": [
      "==================================================================================\n",
      "[1158040, 1158040, 1158040, 1158040, 1158040, 1158040, 1158040, 1158040, 1158040, 1158040]\n",
      "==================================================================================\n"
     ]
    }
   ],
   "source": [
    "\n",
    "print(\"==================================================================================\")\n",
    "\n",
    "print(list(logi_pred[-10:]))\n",
    "\n",
    "print(\"==================================================================================\")"
   ]
  },
  {
   "cell_type": "markdown",
   "metadata": {},
   "source": [
    "# HERE WE HAVE FULL COUNTRY DATA USING IT WE JUST PREDTICED WHEN THE CURE IS GOING TO BE FLATTEN OF ONLY USA\n",
    "\n",
    "# ALMOST AFTER MORE 88 DAYS  USA IS IN DANGER ZONE"
   ]
  },
  {
   "cell_type": "code",
   "execution_count": 110,
   "metadata": {},
   "outputs": [],
   "source": [
    "\n",
    "#SO NOW WILL TAKE THE FULL DATA OF COUTRY AND SELECT THE USA AND PREDTIC THE FUTURE\n",
    "import matplotlib.pyplot as plt\n",
    "plt.style.use('fivethirtyeight')\n",
    "\n",
    "train=pd.read_csv(\"D:\\\\RStudio\\\\mini COVID\\\\MODEL FOR COVID\\\\DATA SET UPDATED\\\\cleaned/covid-19-all.csv\")"
   ]
  },
  {
   "cell_type": "code",
   "execution_count": 111,
   "metadata": {},
   "outputs": [
    {
     "data": {
      "text/html": [
       "<div>\n",
       "<style scoped>\n",
       "    .dataframe tbody tr th:only-of-type {\n",
       "        vertical-align: middle;\n",
       "    }\n",
       "\n",
       "    .dataframe tbody tr th {\n",
       "        vertical-align: top;\n",
       "    }\n",
       "\n",
       "    .dataframe thead th {\n",
       "        text-align: right;\n",
       "    }\n",
       "</style>\n",
       "<table border=\"1\" class=\"dataframe\">\n",
       "  <thead>\n",
       "    <tr style=\"text-align: right;\">\n",
       "      <th></th>\n",
       "      <th>Country/Region</th>\n",
       "      <th>Province/State</th>\n",
       "      <th>Latitude</th>\n",
       "      <th>Longitude</th>\n",
       "      <th>Confirmed</th>\n",
       "      <th>Recovered</th>\n",
       "      <th>Deaths</th>\n",
       "      <th>Date</th>\n",
       "    </tr>\n",
       "  </thead>\n",
       "  <tbody>\n",
       "    <tr>\n",
       "      <td>178465</td>\n",
       "      <td>West Bank and Gaza</td>\n",
       "      <td>NaN</td>\n",
       "      <td>31.952200</td>\n",
       "      <td>35.233200</td>\n",
       "      <td>375.0</td>\n",
       "      <td>315.0</td>\n",
       "      <td>2.0</td>\n",
       "      <td>2020-05-15</td>\n",
       "    </tr>\n",
       "    <tr>\n",
       "      <td>178466</td>\n",
       "      <td>Western Sahara</td>\n",
       "      <td>NaN</td>\n",
       "      <td>24.215500</td>\n",
       "      <td>-12.885800</td>\n",
       "      <td>6.0</td>\n",
       "      <td>6.0</td>\n",
       "      <td>0.0</td>\n",
       "      <td>2020-05-15</td>\n",
       "    </tr>\n",
       "    <tr>\n",
       "      <td>178467</td>\n",
       "      <td>Yemen</td>\n",
       "      <td>NaN</td>\n",
       "      <td>15.552727</td>\n",
       "      <td>48.516388</td>\n",
       "      <td>106.0</td>\n",
       "      <td>1.0</td>\n",
       "      <td>15.0</td>\n",
       "      <td>2020-05-15</td>\n",
       "    </tr>\n",
       "    <tr>\n",
       "      <td>178468</td>\n",
       "      <td>Zambia</td>\n",
       "      <td>NaN</td>\n",
       "      <td>-13.133897</td>\n",
       "      <td>27.849332</td>\n",
       "      <td>654.0</td>\n",
       "      <td>124.0</td>\n",
       "      <td>7.0</td>\n",
       "      <td>2020-05-15</td>\n",
       "    </tr>\n",
       "    <tr>\n",
       "      <td>178469</td>\n",
       "      <td>Zimbabwe</td>\n",
       "      <td>NaN</td>\n",
       "      <td>-19.015438</td>\n",
       "      <td>29.154857</td>\n",
       "      <td>42.0</td>\n",
       "      <td>13.0</td>\n",
       "      <td>4.0</td>\n",
       "      <td>2020-05-15</td>\n",
       "    </tr>\n",
       "  </tbody>\n",
       "</table>\n",
       "</div>"
      ],
      "text/plain": [
       "            Country/Region Province/State   Latitude  Longitude  Confirmed  \\\n",
       "178465  West Bank and Gaza            NaN  31.952200  35.233200      375.0   \n",
       "178466      Western Sahara            NaN  24.215500 -12.885800        6.0   \n",
       "178467               Yemen            NaN  15.552727  48.516388      106.0   \n",
       "178468              Zambia            NaN -13.133897  27.849332      654.0   \n",
       "178469            Zimbabwe            NaN -19.015438  29.154857       42.0   \n",
       "\n",
       "        Recovered  Deaths        Date  \n",
       "178465      315.0     2.0  2020-05-15  \n",
       "178466        6.0     0.0  2020-05-15  \n",
       "178467        1.0    15.0  2020-05-15  \n",
       "178468      124.0     7.0  2020-05-15  \n",
       "178469       13.0     4.0  2020-05-15  "
      ]
     },
     "execution_count": 111,
     "metadata": {},
     "output_type": "execute_result"
    }
   ],
   "source": [
    "train.tail(5)"
   ]
  },
  {
   "cell_type": "code",
   "execution_count": 112,
   "metadata": {},
   "outputs": [
    {
     "data": {
      "text/html": [
       "<div>\n",
       "<style scoped>\n",
       "    .dataframe tbody tr th:only-of-type {\n",
       "        vertical-align: middle;\n",
       "    }\n",
       "\n",
       "    .dataframe tbody tr th {\n",
       "        vertical-align: top;\n",
       "    }\n",
       "\n",
       "    .dataframe thead th {\n",
       "        text-align: right;\n",
       "    }\n",
       "</style>\n",
       "<table border=\"1\" class=\"dataframe\">\n",
       "  <thead>\n",
       "    <tr style=\"text-align: right;\">\n",
       "      <th></th>\n",
       "      <th>Country/Region</th>\n",
       "      <th>Province/State</th>\n",
       "      <th>Latitude</th>\n",
       "      <th>Longitude</th>\n",
       "      <th>Confirmed</th>\n",
       "      <th>Recovered</th>\n",
       "      <th>Deaths</th>\n",
       "      <th>Date</th>\n",
       "    </tr>\n",
       "  </thead>\n",
       "  <tbody>\n",
       "    <tr>\n",
       "      <td>0</td>\n",
       "      <td>China</td>\n",
       "      <td>Anhui</td>\n",
       "      <td>31.8257</td>\n",
       "      <td>117.2264</td>\n",
       "      <td>1.0</td>\n",
       "      <td>NaN</td>\n",
       "      <td>NaN</td>\n",
       "      <td>2020-01-22</td>\n",
       "    </tr>\n",
       "    <tr>\n",
       "      <td>1</td>\n",
       "      <td>China</td>\n",
       "      <td>Beijing</td>\n",
       "      <td>40.1824</td>\n",
       "      <td>116.4142</td>\n",
       "      <td>14.0</td>\n",
       "      <td>NaN</td>\n",
       "      <td>NaN</td>\n",
       "      <td>2020-01-22</td>\n",
       "    </tr>\n",
       "    <tr>\n",
       "      <td>2</td>\n",
       "      <td>China</td>\n",
       "      <td>Chongqing</td>\n",
       "      <td>30.0572</td>\n",
       "      <td>107.8740</td>\n",
       "      <td>6.0</td>\n",
       "      <td>NaN</td>\n",
       "      <td>NaN</td>\n",
       "      <td>2020-01-22</td>\n",
       "    </tr>\n",
       "    <tr>\n",
       "      <td>3</td>\n",
       "      <td>China</td>\n",
       "      <td>Fujian</td>\n",
       "      <td>26.0789</td>\n",
       "      <td>117.9874</td>\n",
       "      <td>1.0</td>\n",
       "      <td>NaN</td>\n",
       "      <td>NaN</td>\n",
       "      <td>2020-01-22</td>\n",
       "    </tr>\n",
       "    <tr>\n",
       "      <td>4</td>\n",
       "      <td>China</td>\n",
       "      <td>Gansu</td>\n",
       "      <td>37.8099</td>\n",
       "      <td>101.0583</td>\n",
       "      <td>NaN</td>\n",
       "      <td>NaN</td>\n",
       "      <td>NaN</td>\n",
       "      <td>2020-01-22</td>\n",
       "    </tr>\n",
       "  </tbody>\n",
       "</table>\n",
       "</div>"
      ],
      "text/plain": [
       "  Country/Region Province/State  Latitude  Longitude  Confirmed  Recovered  \\\n",
       "0          China          Anhui   31.8257   117.2264        1.0        NaN   \n",
       "1          China        Beijing   40.1824   116.4142       14.0        NaN   \n",
       "2          China      Chongqing   30.0572   107.8740        6.0        NaN   \n",
       "3          China         Fujian   26.0789   117.9874        1.0        NaN   \n",
       "4          China          Gansu   37.8099   101.0583        NaN        NaN   \n",
       "\n",
       "   Deaths        Date  \n",
       "0     NaN  2020-01-22  \n",
       "1     NaN  2020-01-22  \n",
       "2     NaN  2020-01-22  \n",
       "3     NaN  2020-01-22  \n",
       "4     NaN  2020-01-22  "
      ]
     },
     "execution_count": 112,
     "metadata": {},
     "output_type": "execute_result"
    }
   ],
   "source": [
    "train.head(5)"
   ]
  },
  {
   "cell_type": "code",
   "execution_count": 113,
   "metadata": {},
   "outputs": [],
   "source": [
    "usa_df=train[train['Country/Region']=='US'].groupby('Date')['Confirmed','Deaths'].sum()"
   ]
  },
  {
   "cell_type": "code",
   "execution_count": 114,
   "metadata": {},
   "outputs": [
    {
     "data": {
      "text/html": [
       "<div>\n",
       "<style scoped>\n",
       "    .dataframe tbody tr th:only-of-type {\n",
       "        vertical-align: middle;\n",
       "    }\n",
       "\n",
       "    .dataframe tbody tr th {\n",
       "        vertical-align: top;\n",
       "    }\n",
       "\n",
       "    .dataframe thead th {\n",
       "        text-align: right;\n",
       "    }\n",
       "</style>\n",
       "<table border=\"1\" class=\"dataframe\">\n",
       "  <thead>\n",
       "    <tr style=\"text-align: right;\">\n",
       "      <th></th>\n",
       "      <th>Confirmed</th>\n",
       "      <th>Deaths</th>\n",
       "    </tr>\n",
       "    <tr>\n",
       "      <th>Date</th>\n",
       "      <th></th>\n",
       "      <th></th>\n",
       "    </tr>\n",
       "  </thead>\n",
       "  <tbody>\n",
       "    <tr>\n",
       "      <td>2020-01-22</td>\n",
       "      <td>1.0</td>\n",
       "      <td>0.0</td>\n",
       "    </tr>\n",
       "    <tr>\n",
       "      <td>2020-01-23</td>\n",
       "      <td>1.0</td>\n",
       "      <td>0.0</td>\n",
       "    </tr>\n",
       "    <tr>\n",
       "      <td>2020-01-24</td>\n",
       "      <td>2.0</td>\n",
       "      <td>0.0</td>\n",
       "    </tr>\n",
       "    <tr>\n",
       "      <td>2020-01-25</td>\n",
       "      <td>2.0</td>\n",
       "      <td>0.0</td>\n",
       "    </tr>\n",
       "    <tr>\n",
       "      <td>2020-01-26</td>\n",
       "      <td>5.0</td>\n",
       "      <td>0.0</td>\n",
       "    </tr>\n",
       "    <tr>\n",
       "      <td>...</td>\n",
       "      <td>...</td>\n",
       "      <td>...</td>\n",
       "    </tr>\n",
       "    <tr>\n",
       "      <td>2020-05-11</td>\n",
       "      <td>1347881.0</td>\n",
       "      <td>80682.0</td>\n",
       "    </tr>\n",
       "    <tr>\n",
       "      <td>2020-05-12</td>\n",
       "      <td>1369574.0</td>\n",
       "      <td>82376.0</td>\n",
       "    </tr>\n",
       "    <tr>\n",
       "      <td>2020-05-13</td>\n",
       "      <td>1390406.0</td>\n",
       "      <td>84119.0</td>\n",
       "    </tr>\n",
       "    <tr>\n",
       "      <td>2020-05-14</td>\n",
       "      <td>1417774.0</td>\n",
       "      <td>85898.0</td>\n",
       "    </tr>\n",
       "    <tr>\n",
       "      <td>2020-05-15</td>\n",
       "      <td>1442824.0</td>\n",
       "      <td>87530.0</td>\n",
       "    </tr>\n",
       "  </tbody>\n",
       "</table>\n",
       "<p>115 rows × 2 columns</p>\n",
       "</div>"
      ],
      "text/plain": [
       "            Confirmed   Deaths\n",
       "Date                          \n",
       "2020-01-22        1.0      0.0\n",
       "2020-01-23        1.0      0.0\n",
       "2020-01-24        2.0      0.0\n",
       "2020-01-25        2.0      0.0\n",
       "2020-01-26        5.0      0.0\n",
       "...               ...      ...\n",
       "2020-05-11  1347881.0  80682.0\n",
       "2020-05-12  1369574.0  82376.0\n",
       "2020-05-13  1390406.0  84119.0\n",
       "2020-05-14  1417774.0  85898.0\n",
       "2020-05-15  1442824.0  87530.0\n",
       "\n",
       "[115 rows x 2 columns]"
      ]
     },
     "execution_count": 114,
     "metadata": {},
     "output_type": "execute_result"
    }
   ],
   "source": [
    "usa_df"
   ]
  },
  {
   "cell_type": "code",
   "execution_count": 115,
   "metadata": {},
   "outputs": [],
   "source": [
    "usa_df['day_count']=list(range(1,len(usa_df)+1))#counting the date same full 115 as data is update now 115"
   ]
  },
  {
   "cell_type": "code",
   "execution_count": 116,
   "metadata": {},
   "outputs": [
    {
     "data": {
      "text/plain": [
       "Date\n",
       "2020-01-22      1\n",
       "2020-01-23      2\n",
       "2020-01-24      3\n",
       "2020-01-25      4\n",
       "2020-01-26      5\n",
       "             ... \n",
       "2020-05-11    111\n",
       "2020-05-12    112\n",
       "2020-05-13    113\n",
       "2020-05-14    114\n",
       "2020-05-15    115\n",
       "Name: day_count, Length: 115, dtype: int64"
      ]
     },
     "execution_count": 116,
     "metadata": {},
     "output_type": "execute_result"
    }
   ],
   "source": [
    "usa_df['day_count']"
   ]
  },
  {
   "cell_type": "code",
   "execution_count": 117,
   "metadata": {},
   "outputs": [],
   "source": [
    "xdata=usa_df.day_count\n",
    "ydata=usa_df.Confirmed"
   ]
  },
  {
   "cell_type": "code",
   "execution_count": 118,
   "metadata": {},
   "outputs": [],
   "source": [
    "usa_df['rate'] = (usa_df.Confirmed - usa_df.Confirmed.shift(1))/usa_df.Confirmed"
   ]
  },
  {
   "cell_type": "code",
   "execution_count": 119,
   "metadata": {},
   "outputs": [
    {
     "data": {
      "text/plain": [
       "Date\n",
       "2020-01-22         NaN\n",
       "2020-01-23    0.000000\n",
       "2020-01-24    0.500000\n",
       "2020-01-25    0.000000\n",
       "2020-01-26    0.600000\n",
       "                ...   \n",
       "2020-05-11    0.013815\n",
       "2020-05-12    0.015839\n",
       "2020-05-13    0.014983\n",
       "2020-05-14    0.019303\n",
       "2020-05-15    0.017362\n",
       "Name: rate, Length: 115, dtype: float64"
      ]
     },
     "execution_count": 119,
     "metadata": {},
     "output_type": "execute_result"
    }
   ],
   "source": [
    "usa_df['rate']"
   ]
  },
  {
   "cell_type": "code",
   "execution_count": 120,
   "metadata": {},
   "outputs": [],
   "source": [
    "usa_df['increase'] = (usa_df.Confirmed-usa_df.Confirmed.shift(1))\n",
    "\n"
   ]
  },
  {
   "cell_type": "code",
   "execution_count": 121,
   "metadata": {},
   "outputs": [
    {
     "data": {
      "text/plain": [
       "Date\n",
       "2020-01-22        NaN\n",
       "2020-01-23        0.0\n",
       "2020-01-24        1.0\n",
       "2020-01-25        0.0\n",
       "2020-01-26        3.0\n",
       "               ...   \n",
       "2020-05-11    18621.0\n",
       "2020-05-12    21693.0\n",
       "2020-05-13    20832.0\n",
       "2020-05-14    27368.0\n",
       "2020-05-15    25050.0\n",
       "Name: increase, Length: 115, dtype: float64"
      ]
     },
     "execution_count": 121,
     "metadata": {},
     "output_type": "execute_result"
    }
   ],
   "source": [
    "usa_df['increase']"
   ]
  },
  {
   "cell_type": "code",
   "execution_count": 122,
   "metadata": {},
   "outputs": [
    {
     "data": {
      "image/png": "[encoded data removed]",
      "text/plain": [
       "<Figure size 432x288 with 1 Axes>"
      ]
     },
     "metadata": {},
     "output_type": "display_data"
    }
   ],
   "source": [
    "plt.plot(xdata, ydata, 'o')\n",
    "plt.title(\"USA\")\n",
    "plt.ylabel(\"Population infected\")\n",
    "plt.xlabel(\"Days\")\n",
    "plt.show()"
   ]
  },
  {
   "cell_type": "markdown",
   "metadata": {},
   "source": [
    "\n",
    "\n",
    "**Sigmoid function,\n",
    "\n",
    "Here is a snap of how I learnt to fit Sigmoid Function - y = c/(1+np.exp(-a*(x-b))) and 3 coefficients [c, a, b]:\n",
    "\n",
    "    c - the maximum value (eventual maximum infected people, the sigmoid scales to this value eventually)\n",
    "    a - the sigmoidal shape (how the infection progress. The smaller, the softer the sigmoidal shape is)\n",
    "    b - the point where sigmoid start to flatten from steepening (the midpoint of sigmoid, when the rate of increase start to slow down)\n",
    "\n"
   ]
  },
  {
   "cell_type": "code",
   "execution_count": 123,
   "metadata": {},
   "outputs": [],
   "source": [
    "us_df = train[train['Country/Region']=='US'].groupby('Date')['Confirmed','Deaths','Recovered'].sum()\n",
    "us_df = us_df[us_df.Confirmed>=100]"
   ]
  },
  {
   "cell_type": "code",
   "execution_count": 124,
   "metadata": {},
   "outputs": [
    {
     "data": {
      "text/html": [
       "<div>\n",
       "<style scoped>\n",
       "    .dataframe tbody tr th:only-of-type {\n",
       "        vertical-align: middle;\n",
       "    }\n",
       "\n",
       "    .dataframe tbody tr th {\n",
       "        vertical-align: top;\n",
       "    }\n",
       "\n",
       "    .dataframe thead th {\n",
       "        text-align: right;\n",
       "    }\n",
       "</style>\n",
       "<table border=\"1\" class=\"dataframe\">\n",
       "  <thead>\n",
       "    <tr style=\"text-align: right;\">\n",
       "      <th></th>\n",
       "      <th>Confirmed</th>\n",
       "      <th>Deaths</th>\n",
       "      <th>Recovered</th>\n",
       "    </tr>\n",
       "    <tr>\n",
       "      <th>Date</th>\n",
       "      <th></th>\n",
       "      <th></th>\n",
       "      <th></th>\n",
       "    </tr>\n",
       "  </thead>\n",
       "  <tbody>\n",
       "    <tr>\n",
       "      <td>2020-03-02</td>\n",
       "      <td>101.0</td>\n",
       "      <td>6.0</td>\n",
       "      <td>7.0</td>\n",
       "    </tr>\n",
       "    <tr>\n",
       "      <td>2020-03-03</td>\n",
       "      <td>122.0</td>\n",
       "      <td>7.0</td>\n",
       "      <td>8.0</td>\n",
       "    </tr>\n",
       "    <tr>\n",
       "      <td>2020-03-04</td>\n",
       "      <td>153.0</td>\n",
       "      <td>11.0</td>\n",
       "      <td>8.0</td>\n",
       "    </tr>\n",
       "    <tr>\n",
       "      <td>2020-03-05</td>\n",
       "      <td>221.0</td>\n",
       "      <td>12.0</td>\n",
       "      <td>8.0</td>\n",
       "    </tr>\n",
       "    <tr>\n",
       "      <td>2020-03-06</td>\n",
       "      <td>278.0</td>\n",
       "      <td>14.0</td>\n",
       "      <td>8.0</td>\n",
       "    </tr>\n",
       "    <tr>\n",
       "      <td>...</td>\n",
       "      <td>...</td>\n",
       "      <td>...</td>\n",
       "      <td>...</td>\n",
       "    </tr>\n",
       "    <tr>\n",
       "      <td>2020-05-11</td>\n",
       "      <td>1347881.0</td>\n",
       "      <td>80682.0</td>\n",
       "      <td>232733.0</td>\n",
       "    </tr>\n",
       "    <tr>\n",
       "      <td>2020-05-12</td>\n",
       "      <td>1369574.0</td>\n",
       "      <td>82376.0</td>\n",
       "      <td>230287.0</td>\n",
       "    </tr>\n",
       "    <tr>\n",
       "      <td>2020-05-13</td>\n",
       "      <td>1390406.0</td>\n",
       "      <td>84119.0</td>\n",
       "      <td>243430.0</td>\n",
       "    </tr>\n",
       "    <tr>\n",
       "      <td>2020-05-14</td>\n",
       "      <td>1417774.0</td>\n",
       "      <td>85898.0</td>\n",
       "      <td>246414.0</td>\n",
       "    </tr>\n",
       "    <tr>\n",
       "      <td>2020-05-15</td>\n",
       "      <td>1442824.0</td>\n",
       "      <td>87530.0</td>\n",
       "      <td>250747.0</td>\n",
       "    </tr>\n",
       "  </tbody>\n",
       "</table>\n",
       "<p>75 rows × 3 columns</p>\n",
       "</div>"
      ],
      "text/plain": [
       "            Confirmed   Deaths  Recovered\n",
       "Date                                     \n",
       "2020-03-02      101.0      6.0        7.0\n",
       "2020-03-03      122.0      7.0        8.0\n",
       "2020-03-04      153.0     11.0        8.0\n",
       "2020-03-05      221.0     12.0        8.0\n",
       "2020-03-06      278.0     14.0        8.0\n",
       "...               ...      ...        ...\n",
       "2020-05-11  1347881.0  80682.0   232733.0\n",
       "2020-05-12  1369574.0  82376.0   230287.0\n",
       "2020-05-13  1390406.0  84119.0   243430.0\n",
       "2020-05-14  1417774.0  85898.0   246414.0\n",
       "2020-05-15  1442824.0  87530.0   250747.0\n",
       "\n",
       "[75 rows x 3 columns]"
      ]
     },
     "execution_count": 124,
     "metadata": {},
     "output_type": "execute_result"
    }
   ],
   "source": [
    "us_df"
   ]
  },
  {
   "cell_type": "code",
   "execution_count": 125,
   "metadata": {},
   "outputs": [],
   "source": [
    "from scipy.optimize import curve_fit\n",
    "import pylab\n",
    "from datetime import timedelta"
   ]
  },
  {
   "cell_type": "code",
   "execution_count": 126,
   "metadata": {},
   "outputs": [],
   "source": [
    "us_df['day_count'] = list(range(1,len(us_df)+1))\n",
    "us_df['increase'] = (us_df.Confirmed-us_df.Confirmed.shift(1))\n",
    "us_df['rate'] = (us_df.Confirmed-us_df.Confirmed.shift(1))/us_df.Confirmed\n",
    "us_df['Active']=us_df['Confirmed']-us_df['Deaths']-us_df['Recovered']"
   ]
  },
  {
   "cell_type": "code",
   "execution_count": 127,
   "metadata": {},
   "outputs": [
    {
     "data": {
      "text/plain": [
       "Date\n",
       "2020-03-02         88.0\n",
       "2020-03-03        107.0\n",
       "2020-03-04        134.0\n",
       "2020-03-05        201.0\n",
       "2020-03-06        256.0\n",
       "                ...    \n",
       "2020-05-11    1034466.0\n",
       "2020-05-12    1056911.0\n",
       "2020-05-13    1062857.0\n",
       "2020-05-14    1085462.0\n",
       "2020-05-15    1104547.0\n",
       "Name: Active, Length: 75, dtype: float64"
      ]
     },
     "execution_count": 127,
     "metadata": {},
     "output_type": "execute_result"
    }
   ],
   "source": [
    "us_df['Active']"
   ]
  },
  {
   "cell_type": "code",
   "execution_count": 128,
   "metadata": {},
   "outputs": [
    {
     "data": {
      "text/plain": [
       "Date\n",
       "2020-03-02     1\n",
       "2020-03-03     2\n",
       "2020-03-04     3\n",
       "2020-03-05     4\n",
       "2020-03-06     5\n",
       "              ..\n",
       "2020-05-11    71\n",
       "2020-05-12    72\n",
       "2020-05-13    73\n",
       "2020-05-14    74\n",
       "2020-05-15    75\n",
       "Name: day_count, Length: 75, dtype: int64"
      ]
     },
     "execution_count": 128,
     "metadata": {},
     "output_type": "execute_result"
    }
   ],
   "source": [
    "us_df['day_count']"
   ]
  },
  {
   "cell_type": "code",
   "execution_count": 129,
   "metadata": {},
   "outputs": [
    {
     "data": {
      "text/plain": [
       "Date\n",
       "2020-03-02        NaN\n",
       "2020-03-03       21.0\n",
       "2020-03-04       31.0\n",
       "2020-03-05       68.0\n",
       "2020-03-06       57.0\n",
       "               ...   \n",
       "2020-05-11    18621.0\n",
       "2020-05-12    21693.0\n",
       "2020-05-13    20832.0\n",
       "2020-05-14    27368.0\n",
       "2020-05-15    25050.0\n",
       "Name: increase, Length: 75, dtype: float64"
      ]
     },
     "execution_count": 129,
     "metadata": {},
     "output_type": "execute_result"
    }
   ],
   "source": [
    "us_df['increase']"
   ]
  },
  {
   "cell_type": "code",
   "execution_count": 130,
   "metadata": {},
   "outputs": [],
   "source": [
    "def sigmoid(x,c,a,b):\n",
    "     y = c*1 / (1 + np.exp(-a*(x-b)))\n",
    "     return y\n"
   ]
  },
  {
   "cell_type": "code",
   "execution_count": 131,
   "metadata": {},
   "outputs": [],
   "source": [
    "xdata = np.array(list(us_df.day_count)[::2])\n",
    "ydata = np.array(list(us_df.Active)[::2])"
   ]
  },
  {
   "cell_type": "code",
   "execution_count": 132,
   "metadata": {},
   "outputs": [
    {
     "name": "stdout",
     "output_type": "stream",
     "text": [
      "[1.08258415e+06 1.06501927e-01 4.49752054e+01]\n"
     ]
    }
   ],
   "source": [
    "population=1.332*10**9\n",
    "popt, pcov = curve_fit(sigmoid, xdata, ydata, method='dogbox',bounds=([0.,0., 0.],[population,6, 100.]))\n",
    "print(popt)"
   ]
  },
  {
   "cell_type": "code",
   "execution_count": 133,
   "metadata": {},
   "outputs": [],
   "source": [
    "est_a = popt[0]\n",
    "est_b = popt[1]\n",
    "est_c = popt[2]\n"
   ]
  },
  {
   "cell_type": "code",
   "execution_count": 134,
   "metadata": {},
   "outputs": [
    {
     "data": {
      "text/plain": [
       "1082584.1484809602"
      ]
     },
     "execution_count": 134,
     "metadata": {},
     "output_type": "execute_result"
    }
   ],
   "source": [
    "est_a"
   ]
  },
  {
   "cell_type": "code",
   "execution_count": 135,
   "metadata": {},
   "outputs": [
    {
     "data": {
      "text/plain": [
       "0.10650192706551263"
      ]
     },
     "execution_count": 135,
     "metadata": {},
     "output_type": "execute_result"
    }
   ],
   "source": [
    "est_b"
   ]
  },
  {
   "cell_type": "code",
   "execution_count": 136,
   "metadata": {},
   "outputs": [
    {
     "data": {
      "text/plain": [
       "44.97520542443669"
      ]
     },
     "execution_count": 136,
     "metadata": {},
     "output_type": "execute_result"
    }
   ],
   "source": [
    "est_c"
   ]
  },
  {
   "cell_type": "code",
   "execution_count": 137,
   "metadata": {},
   "outputs": [],
   "source": [
    "x = np.linspace(-1, us_df.day_count.max()+50, 50)\n",
    "y = sigmoid(x,est_a,est_b,est_c)\n"
   ]
  },
  {
   "cell_type": "code",
   "execution_count": 138,
   "metadata": {},
   "outputs": [
    {
     "data": {
      "text/plain": [
       "array([ -1.        ,   1.57142857,   4.14285714,   6.71428571,\n",
       "         9.28571429,  11.85714286,  14.42857143,  17.        ,\n",
       "        19.57142857,  22.14285714,  24.71428571,  27.28571429,\n",
       "        29.85714286,  32.42857143,  35.        ,  37.57142857,\n",
       "        40.14285714,  42.71428571,  45.28571429,  47.85714286,\n",
       "        50.42857143,  53.        ,  55.57142857,  58.14285714,\n",
       "        60.71428571,  63.28571429,  65.85714286,  68.42857143,\n",
       "        71.        ,  73.57142857,  76.14285714,  78.71428571,\n",
       "        81.28571429,  83.85714286,  86.42857143,  89.        ,\n",
       "        91.57142857,  94.14285714,  96.71428571,  99.28571429,\n",
       "       101.85714286, 104.42857143, 107.        , 109.57142857,\n",
       "       112.14285714, 114.71428571, 117.28571429, 119.85714286,\n",
       "       122.42857143, 125.        ])"
      ]
     },
     "execution_count": 138,
     "metadata": {},
     "output_type": "execute_result"
    }
   ],
   "source": [
    "x"
   ]
  },
  {
   "cell_type": "code",
   "execution_count": 139,
   "metadata": {},
   "outputs": [
    {
     "data": {
      "text/plain": [
       "array([   8030.22800586,   10535.39919613,   13812.05707452,\n",
       "         18090.60492598,   23665.16782188,   30907.6387371 ,\n",
       "         40282.27323031,   52358.77667871,   67820.20165874,\n",
       "         87459.74790915,  112157.97171287,  142829.78797563,\n",
       "        180330.74226341,  225317.10650328,  278067.32845716,\n",
       "        338293.79091545,  404998.04259519,  476435.65806197,\n",
       "        550241.46683849,  623715.91124709,  694207.17462688,\n",
       "        759479.27700635,  817963.05122101,  868840.17604025,\n",
       "        911975.72761171,  947756.99001656,  976903.54753859,\n",
       "       1000296.34472448, 1018848.88770763, 1033424.15660309,\n",
       "       1044789.92965493, 1053601.63586708, 1060402.51382845,\n",
       "       1065633.20999474, 1069645.495362  , 1072716.8670644 ,\n",
       "       1075064.28353653, 1076856.23386362, 1078222.90268781,\n",
       "       1079264.49232906, 1080057.90355481, 1080662.02401398,\n",
       "       1081121.87207552, 1081471.81956265, 1081738.0842344 ,\n",
       "       1081940.64950115, 1082094.73839857, 1082211.94266846,\n",
       "       1082301.08611985, 1082368.88392322])"
      ]
     },
     "execution_count": 139,
     "metadata": {},
     "output_type": "execute_result"
    }
   ],
   "source": [
    "y"
   ]
  },
  {
   "cell_type": "code",
   "execution_count": 140,
   "metadata": {},
   "outputs": [
    {
     "data": {
      "image/png": "[encoded data removed]",
      "text/plain": [
       "<Figure size 432x288 with 1 Axes>"
      ]
     },
     "metadata": {},
     "output_type": "display_data"
    }
   ],
   "source": [
    "pylab.plot(xdata, ydata, 'o', label='data')\n",
    "pylab.plot(x,y, label='fit',alpha = 0.6)\n",
    "pylab.ylim(-0.05, est_a*1.05)\n",
    "pylab.xlim(-0.05, est_c*2.05)\n",
    "pylab.legend(loc='best')\n",
    "plt.xlabel('days from day 1')\n",
    "plt.ylabel('confirmed cases')\n",
    "plt.title('USA')\n",
    "pylab.show()\n"
   ]
  },
  {
   "cell_type": "code",
   "execution_count": 141,
   "metadata": {},
   "outputs": [
    {
     "name": "stdout",
     "output_type": "stream",
     "text": [
      "model start date: 2020-03-02\n",
      "model start infection: 101\n"
     ]
    }
   ],
   "source": [
    "print('model start date:',us_df[us_df.day_count==1].index[0])\n",
    "print('model start infection:',int(us_df[us_df.day_count==1].Confirmed[0]))\n"
   ]
  },
  {
   "cell_type": "code",
   "execution_count": 142,
   "metadata": {},
   "outputs": [
    {
     "name": "stdout",
     "output_type": "stream",
     "text": [
      "model fitted max Active at: 1082584\n",
      "model sigmoidal coefficient is: 0.107\n",
      "model curve stop steepening, start flattening by day: 44\n"
     ]
    }
   ],
   "source": [
    "print('model fitted max Active at:',int(est_a))\n",
    "print('model sigmoidal coefficient is:',round(est_b,3))\n",
    "print('model curve stop steepening, start flattening by day:',int(est_c))\n"
   ]
  },
  {
   "cell_type": "code",
   "execution_count": 143,
   "metadata": {},
   "outputs": [
    {
     "name": "stdout",
     "output_type": "stream",
     "text": [
      "model curve flattens by day: 88\n"
     ]
    },
    {
     "data": {
      "text/html": [
       "<div>\n",
       "<style scoped>\n",
       "    .dataframe tbody tr th:only-of-type {\n",
       "        vertical-align: middle;\n",
       "    }\n",
       "\n",
       "    .dataframe tbody tr th {\n",
       "        vertical-align: top;\n",
       "    }\n",
       "\n",
       "    .dataframe thead th {\n",
       "        text-align: right;\n",
       "    }\n",
       "</style>\n",
       "<table border=\"1\" class=\"dataframe\">\n",
       "  <thead>\n",
       "    <tr style=\"text-align: right;\">\n",
       "      <th></th>\n",
       "      <th>Confirmed</th>\n",
       "      <th>Deaths</th>\n",
       "      <th>Recovered</th>\n",
       "      <th>day_count</th>\n",
       "      <th>increase</th>\n",
       "      <th>rate</th>\n",
       "      <th>Active</th>\n",
       "    </tr>\n",
       "    <tr>\n",
       "      <th>Date</th>\n",
       "      <th></th>\n",
       "      <th></th>\n",
       "      <th></th>\n",
       "      <th></th>\n",
       "      <th></th>\n",
       "      <th></th>\n",
       "      <th></th>\n",
       "    </tr>\n",
       "  </thead>\n",
       "  <tbody>\n",
       "    <tr>\n",
       "      <td>2020-03-02</td>\n",
       "      <td>101.0</td>\n",
       "      <td>6.0</td>\n",
       "      <td>7.0</td>\n",
       "      <td>1</td>\n",
       "      <td>NaN</td>\n",
       "      <td>NaN</td>\n",
       "      <td>88.0</td>\n",
       "    </tr>\n",
       "    <tr>\n",
       "      <td>2020-03-03</td>\n",
       "      <td>122.0</td>\n",
       "      <td>7.0</td>\n",
       "      <td>8.0</td>\n",
       "      <td>2</td>\n",
       "      <td>21.0</td>\n",
       "      <td>0.172131</td>\n",
       "      <td>107.0</td>\n",
       "    </tr>\n",
       "    <tr>\n",
       "      <td>2020-03-04</td>\n",
       "      <td>153.0</td>\n",
       "      <td>11.0</td>\n",
       "      <td>8.0</td>\n",
       "      <td>3</td>\n",
       "      <td>31.0</td>\n",
       "      <td>0.202614</td>\n",
       "      <td>134.0</td>\n",
       "    </tr>\n",
       "  </tbody>\n",
       "</table>\n",
       "</div>"
      ],
      "text/plain": [
       "            Confirmed  Deaths  Recovered  day_count  increase      rate  \\\n",
       "Date                                                                      \n",
       "2020-03-02      101.0     6.0        7.0          1       NaN       NaN   \n",
       "2020-03-03      122.0     7.0        8.0          2      21.0  0.172131   \n",
       "2020-03-04      153.0    11.0        8.0          3      31.0  0.202614   \n",
       "\n",
       "            Active  \n",
       "Date                \n",
       "2020-03-02    88.0  \n",
       "2020-03-03   107.0  \n",
       "2020-03-04   134.0  "
      ]
     },
     "metadata": {},
     "output_type": "display_data"
    },
    {
     "data": {
      "text/html": [
       "<div>\n",
       "<style scoped>\n",
       "    .dataframe tbody tr th:only-of-type {\n",
       "        vertical-align: middle;\n",
       "    }\n",
       "\n",
       "    .dataframe tbody tr th {\n",
       "        vertical-align: top;\n",
       "    }\n",
       "\n",
       "    .dataframe thead th {\n",
       "        text-align: right;\n",
       "    }\n",
       "</style>\n",
       "<table border=\"1\" class=\"dataframe\">\n",
       "  <thead>\n",
       "    <tr style=\"text-align: right;\">\n",
       "      <th></th>\n",
       "      <th>Confirmed</th>\n",
       "      <th>Deaths</th>\n",
       "      <th>Recovered</th>\n",
       "      <th>day_count</th>\n",
       "      <th>increase</th>\n",
       "      <th>rate</th>\n",
       "      <th>Active</th>\n",
       "    </tr>\n",
       "    <tr>\n",
       "      <th>Date</th>\n",
       "      <th></th>\n",
       "      <th></th>\n",
       "      <th></th>\n",
       "      <th></th>\n",
       "      <th></th>\n",
       "      <th></th>\n",
       "      <th></th>\n",
       "    </tr>\n",
       "  </thead>\n",
       "  <tbody>\n",
       "    <tr>\n",
       "      <td>2020-05-13</td>\n",
       "      <td>1390406.0</td>\n",
       "      <td>84119.0</td>\n",
       "      <td>243430.0</td>\n",
       "      <td>73</td>\n",
       "      <td>20832.0</td>\n",
       "      <td>0.014983</td>\n",
       "      <td>1062857.0</td>\n",
       "    </tr>\n",
       "    <tr>\n",
       "      <td>2020-05-14</td>\n",
       "      <td>1417774.0</td>\n",
       "      <td>85898.0</td>\n",
       "      <td>246414.0</td>\n",
       "      <td>74</td>\n",
       "      <td>27368.0</td>\n",
       "      <td>0.019303</td>\n",
       "      <td>1085462.0</td>\n",
       "    </tr>\n",
       "    <tr>\n",
       "      <td>2020-05-15</td>\n",
       "      <td>1442824.0</td>\n",
       "      <td>87530.0</td>\n",
       "      <td>250747.0</td>\n",
       "      <td>75</td>\n",
       "      <td>25050.0</td>\n",
       "      <td>0.017362</td>\n",
       "      <td>1104547.0</td>\n",
       "    </tr>\n",
       "  </tbody>\n",
       "</table>\n",
       "</div>"
      ],
      "text/plain": [
       "            Confirmed   Deaths  Recovered  day_count  increase      rate  \\\n",
       "Date                                                                       \n",
       "2020-05-13  1390406.0  84119.0   243430.0         73   20832.0  0.014983   \n",
       "2020-05-14  1417774.0  85898.0   246414.0         74   27368.0  0.019303   \n",
       "2020-05-15  1442824.0  87530.0   250747.0         75   25050.0  0.017362   \n",
       "\n",
       "               Active  \n",
       "Date                   \n",
       "2020-05-13  1062857.0  \n",
       "2020-05-14  1085462.0  \n",
       "2020-05-15  1104547.0  "
      ]
     },
     "metadata": {},
     "output_type": "display_data"
    }
   ],
   "source": [
    "print('model curve flattens by day:',int(est_c)*2)\n",
    "display(us_df.head(3))\n",
    "display(us_df.tail(3))"
   ]
  },
  {
   "cell_type": "code",
   "execution_count": null,
   "metadata": {},
   "outputs": [],
   "source": []
  },
  {
   "cell_type": "code",
   "execution_count": null,
   "metadata": {},
   "outputs": [],
   "source": []
  },
  {
   "cell_type": "code",
   "execution_count": null,
   "metadata": {},
   "outputs": [],
   "source": []
  },
  {
   "cell_type": "code",
   "execution_count": null,
   "metadata": {},
   "outputs": [],
   "source": []
  },
  {
   "cell_type": "code",
   "execution_count": null,
   "metadata": {},
   "outputs": [],
   "source": []
  },
  {
   "cell_type": "code",
   "execution_count": null,
   "metadata": {},
   "outputs": [],
   "source": []
  },
  {
   "cell_type": "code",
   "execution_count": null,
   "metadata": {},
   "outputs": [],
   "source": []
  }
 ],
 "metadata": {
  "kernelspec": {
   "display_name": "Python 3",
   "language": "python",
   "name": "python3"
  },
  "language_info": {
   "codemirror_mode": {
    "name": "ipython",
    "version": 3
   },
   "file_extension": ".py",
   "mimetype": "text/x-python",
   "name": "python",
   "nbconvert_exporter": "python",
   "pygments_lexer": "ipython3",
   "version": "3.7.4"
  }
 },
 "nbformat": 4,
 "nbformat_minor": 2
}
